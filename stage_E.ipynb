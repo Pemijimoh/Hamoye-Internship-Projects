{
  "nbformat": 4,
  "nbformat_minor": 0,
  "metadata": {
    "colab": {
      "provenance": [],
      "authorship_tag": "ABX9TyO9C5FsdD+b0gJd0sl8Xo2b",
      "include_colab_link": true
    },
    "kernelspec": {
      "name": "python3",
      "display_name": "Python 3"
    },
    "language_info": {
      "name": "python"
    }
  },
  "cells": [
    {
      "cell_type": "markdown",
      "metadata": {
        "id": "view-in-github",
        "colab_type": "text"
      },
      "source": [
        "<a href=\"https://colab.research.google.com/github/Pemijimoh/Hamoye-Internship-Projects/blob/main/stage_E.ipynb\" target=\"_parent\"><img src=\"https://colab.research.google.com/assets/colab-badge.svg\" alt=\"Open In Colab\"/></a>"
      ]
    },
    {
      "cell_type": "markdown",
      "source": [
        "# **Stage E: Tag Along Project**\n",
        "**Building time series forecasting models for measurements of electricity prices of a District**"
      ],
      "metadata": {
        "id": "R07t2mcnIS8E"
      }
    },
    {
      "cell_type": "code",
      "source": [
        "# import libraries\n",
        "\n",
        "import pandas as pd\n",
        "import numpy as np\n",
        "import matplotlib.pyplot as plt\n",
        "import seaborn as sns\n",
        "from math import sqrt\n",
        "\n",
        "from prophet import Prophet"
      ],
      "metadata": {
        "id": "BNfqGHp-FB6F"
      },
      "execution_count": 1,
      "outputs": []
    },
    {
      "cell_type": "code",
      "source": [
        "# load data\n",
        "\n",
        "df = pd.read_csv('Time_series_analysis_and_forecast_DATASET.csv')\n",
        "df.head()"
      ],
      "metadata": {
        "colab": {
          "base_uri": "https://localhost:8080/",
          "height": 206
        },
        "id": "9pEm365ZFceq",
        "outputId": "85167d72-acbb-44bf-8b78-ce9c4097ffa5"
      },
      "execution_count": 2,
      "outputs": [
        {
          "output_type": "execute_result",
          "data": {
            "text/plain": [
              "              FullDate  Tmax   SysLoad  GasPrice  ElecPrice\n",
              "0  2010-09-01 00:00:00  15.8  1688.215      3.69     23.710\n",
              "1  2010-09-01 01:00:00  15.8  1669.195      3.69     22.635\n",
              "2  2010-09-01 02:00:00  15.8  1491.980      3.69     22.565\n",
              "3  2010-09-01 03:00:00  15.8  1330.760      3.69     18.910\n",
              "4  2010-09-01 04:00:00  15.8  1247.940      3.69     18.030"
            ],
            "text/html": [
              "\n",
              "  <div id=\"df-4abdd333-b23c-4f67-8433-28ef09ba4177\">\n",
              "    <div class=\"colab-df-container\">\n",
              "      <div>\n",
              "<style scoped>\n",
              "    .dataframe tbody tr th:only-of-type {\n",
              "        vertical-align: middle;\n",
              "    }\n",
              "\n",
              "    .dataframe tbody tr th {\n",
              "        vertical-align: top;\n",
              "    }\n",
              "\n",
              "    .dataframe thead th {\n",
              "        text-align: right;\n",
              "    }\n",
              "</style>\n",
              "<table border=\"1\" class=\"dataframe\">\n",
              "  <thead>\n",
              "    <tr style=\"text-align: right;\">\n",
              "      <th></th>\n",
              "      <th>FullDate</th>\n",
              "      <th>Tmax</th>\n",
              "      <th>SysLoad</th>\n",
              "      <th>GasPrice</th>\n",
              "      <th>ElecPrice</th>\n",
              "    </tr>\n",
              "  </thead>\n",
              "  <tbody>\n",
              "    <tr>\n",
              "      <th>0</th>\n",
              "      <td>2010-09-01 00:00:00</td>\n",
              "      <td>15.8</td>\n",
              "      <td>1688.215</td>\n",
              "      <td>3.69</td>\n",
              "      <td>23.710</td>\n",
              "    </tr>\n",
              "    <tr>\n",
              "      <th>1</th>\n",
              "      <td>2010-09-01 01:00:00</td>\n",
              "      <td>15.8</td>\n",
              "      <td>1669.195</td>\n",
              "      <td>3.69</td>\n",
              "      <td>22.635</td>\n",
              "    </tr>\n",
              "    <tr>\n",
              "      <th>2</th>\n",
              "      <td>2010-09-01 02:00:00</td>\n",
              "      <td>15.8</td>\n",
              "      <td>1491.980</td>\n",
              "      <td>3.69</td>\n",
              "      <td>22.565</td>\n",
              "    </tr>\n",
              "    <tr>\n",
              "      <th>3</th>\n",
              "      <td>2010-09-01 03:00:00</td>\n",
              "      <td>15.8</td>\n",
              "      <td>1330.760</td>\n",
              "      <td>3.69</td>\n",
              "      <td>18.910</td>\n",
              "    </tr>\n",
              "    <tr>\n",
              "      <th>4</th>\n",
              "      <td>2010-09-01 04:00:00</td>\n",
              "      <td>15.8</td>\n",
              "      <td>1247.940</td>\n",
              "      <td>3.69</td>\n",
              "      <td>18.030</td>\n",
              "    </tr>\n",
              "  </tbody>\n",
              "</table>\n",
              "</div>\n",
              "      <button class=\"colab-df-convert\" onclick=\"convertToInteractive('df-4abdd333-b23c-4f67-8433-28ef09ba4177')\"\n",
              "              title=\"Convert this dataframe to an interactive table.\"\n",
              "              style=\"display:none;\">\n",
              "        \n",
              "  <svg xmlns=\"http://www.w3.org/2000/svg\" height=\"24px\"viewBox=\"0 0 24 24\"\n",
              "       width=\"24px\">\n",
              "    <path d=\"M0 0h24v24H0V0z\" fill=\"none\"/>\n",
              "    <path d=\"M18.56 5.44l.94 2.06.94-2.06 2.06-.94-2.06-.94-.94-2.06-.94 2.06-2.06.94zm-11 1L8.5 8.5l.94-2.06 2.06-.94-2.06-.94L8.5 2.5l-.94 2.06-2.06.94zm10 10l.94 2.06.94-2.06 2.06-.94-2.06-.94-.94-2.06-.94 2.06-2.06.94z\"/><path d=\"M17.41 7.96l-1.37-1.37c-.4-.4-.92-.59-1.43-.59-.52 0-1.04.2-1.43.59L10.3 9.45l-7.72 7.72c-.78.78-.78 2.05 0 2.83L4 21.41c.39.39.9.59 1.41.59.51 0 1.02-.2 1.41-.59l7.78-7.78 2.81-2.81c.8-.78.8-2.07 0-2.86zM5.41 20L4 18.59l7.72-7.72 1.47 1.35L5.41 20z\"/>\n",
              "  </svg>\n",
              "      </button>\n",
              "      \n",
              "  <style>\n",
              "    .colab-df-container {\n",
              "      display:flex;\n",
              "      flex-wrap:wrap;\n",
              "      gap: 12px;\n",
              "    }\n",
              "\n",
              "    .colab-df-convert {\n",
              "      background-color: #E8F0FE;\n",
              "      border: none;\n",
              "      border-radius: 50%;\n",
              "      cursor: pointer;\n",
              "      display: none;\n",
              "      fill: #1967D2;\n",
              "      height: 32px;\n",
              "      padding: 0 0 0 0;\n",
              "      width: 32px;\n",
              "    }\n",
              "\n",
              "    .colab-df-convert:hover {\n",
              "      background-color: #E2EBFA;\n",
              "      box-shadow: 0px 1px 2px rgba(60, 64, 67, 0.3), 0px 1px 3px 1px rgba(60, 64, 67, 0.15);\n",
              "      fill: #174EA6;\n",
              "    }\n",
              "\n",
              "    [theme=dark] .colab-df-convert {\n",
              "      background-color: #3B4455;\n",
              "      fill: #D2E3FC;\n",
              "    }\n",
              "\n",
              "    [theme=dark] .colab-df-convert:hover {\n",
              "      background-color: #434B5C;\n",
              "      box-shadow: 0px 1px 3px 1px rgba(0, 0, 0, 0.15);\n",
              "      filter: drop-shadow(0px 1px 2px rgba(0, 0, 0, 0.3));\n",
              "      fill: #FFFFFF;\n",
              "    }\n",
              "  </style>\n",
              "\n",
              "      <script>\n",
              "        const buttonEl =\n",
              "          document.querySelector('#df-4abdd333-b23c-4f67-8433-28ef09ba4177 button.colab-df-convert');\n",
              "        buttonEl.style.display =\n",
              "          google.colab.kernel.accessAllowed ? 'block' : 'none';\n",
              "\n",
              "        async function convertToInteractive(key) {\n",
              "          const element = document.querySelector('#df-4abdd333-b23c-4f67-8433-28ef09ba4177');\n",
              "          const dataTable =\n",
              "            await google.colab.kernel.invokeFunction('convertToInteractive',\n",
              "                                                     [key], {});\n",
              "          if (!dataTable) return;\n",
              "\n",
              "          const docLinkHtml = 'Like what you see? Visit the ' +\n",
              "            '<a target=\"_blank\" href=https://colab.research.google.com/notebooks/data_table.ipynb>data table notebook</a>'\n",
              "            + ' to learn more about interactive tables.';\n",
              "          element.innerHTML = '';\n",
              "          dataTable['output_type'] = 'display_data';\n",
              "          await google.colab.output.renderOutput(dataTable, element);\n",
              "          const docLink = document.createElement('div');\n",
              "          docLink.innerHTML = docLinkHtml;\n",
              "          element.appendChild(docLink);\n",
              "        }\n",
              "      </script>\n",
              "    </div>\n",
              "  </div>\n",
              "  "
            ]
          },
          "metadata": {},
          "execution_count": 2
        }
      ]
    },
    {
      "cell_type": "code",
      "source": [
        "# check data shape\n",
        "df.shape"
      ],
      "metadata": {
        "colab": {
          "base_uri": "https://localhost:8080/"
        },
        "id": "hXHXPwrjJGiE",
        "outputId": "157b90da-8d63-4f35-f6fd-1ecbc6b1bb36"
      },
      "execution_count": 3,
      "outputs": [
        {
          "output_type": "execute_result",
          "data": {
            "text/plain": [
              "(92016, 5)"
            ]
          },
          "metadata": {},
          "execution_count": 3
        }
      ]
    },
    {
      "cell_type": "code",
      "source": [
        "# check for missing values in the data \n",
        "df.isnull().sum()"
      ],
      "metadata": {
        "colab": {
          "base_uri": "https://localhost:8080/"
        },
        "id": "gbibrwnrFpyg",
        "outputId": "5f81c0cf-e01b-43e1-ccd4-439c76e4fcc0"
      },
      "execution_count": 4,
      "outputs": [
        {
          "output_type": "execute_result",
          "data": {
            "text/plain": [
              "FullDate     0\n",
              "Tmax         0\n",
              "SysLoad      0\n",
              "GasPrice     0\n",
              "ElecPrice    0\n",
              "dtype: int64"
            ]
          },
          "metadata": {},
          "execution_count": 4
        }
      ]
    },
    {
      "cell_type": "code",
      "source": [
        "# convert date column datatype from object to datetime\n",
        "df['FullDate'] = pd.to_datetime(df.FullDate)"
      ],
      "metadata": {
        "id": "ulpYOs_uFp8q"
      },
      "execution_count": 5,
      "outputs": []
    },
    {
      "cell_type": "code",
      "source": [
        "# check data types\n",
        "df.dtypes"
      ],
      "metadata": {
        "colab": {
          "base_uri": "https://localhost:8080/"
        },
        "id": "WsoHiWCWFqFX",
        "outputId": "f5fad402-a3cb-40e4-85c0-193e5a1256a1"
      },
      "execution_count": 6,
      "outputs": [
        {
          "output_type": "execute_result",
          "data": {
            "text/plain": [
              "FullDate     datetime64[ns]\n",
              "Tmax                float64\n",
              "SysLoad             float64\n",
              "GasPrice            float64\n",
              "ElecPrice           float64\n",
              "dtype: object"
            ]
          },
          "metadata": {},
          "execution_count": 6
        }
      ]
    },
    {
      "cell_type": "markdown",
      "source": [
        "### **Q.11**\n",
        "**Resample the data from an hour sampling rate to a daily sampling rate (i.e sum over the hours for each day). Which of the following is a plot of ElecPrice over time?**"
      ],
      "metadata": {
        "id": "OM54JXNk52qg"
      }
    },
    {
      "cell_type": "code",
      "source": [
        "# resample the data to daily sampling rate\n",
        "df_resampled = df.set_index('FullDate').resample('D').sum()"
      ],
      "metadata": {
        "id": "DEXldYhUFqNT"
      },
      "execution_count": 7,
      "outputs": []
    },
    {
      "cell_type": "code",
      "source": [
        "df_resampled.info()"
      ],
      "metadata": {
        "colab": {
          "base_uri": "https://localhost:8080/"
        },
        "id": "cAau-EDfGBV_",
        "outputId": "512891a7-da2e-4428-9a44-168f7ec57113"
      },
      "execution_count": 8,
      "outputs": [
        {
          "output_type": "stream",
          "name": "stdout",
          "text": [
            "<class 'pandas.core.frame.DataFrame'>\n",
            "DatetimeIndex: 3834 entries, 2010-09-01 to 2021-02-28\n",
            "Freq: D\n",
            "Data columns (total 4 columns):\n",
            " #   Column     Non-Null Count  Dtype  \n",
            "---  ------     --------------  -----  \n",
            " 0   Tmax       3834 non-null   float64\n",
            " 1   SysLoad    3834 non-null   float64\n",
            " 2   GasPrice   3834 non-null   float64\n",
            " 3   ElecPrice  3834 non-null   float64\n",
            "dtypes: float64(4)\n",
            "memory usage: 149.8 KB\n"
          ]
        }
      ]
    },
    {
      "cell_type": "code",
      "source": [
        "# plot of ElecPrice over Time\n",
        "\n",
        "plt.figure(figsize=(8,4))\n",
        "sns.lineplot(y='ElecPrice', x=df_resampled.index, data=df_resampled);\n",
        "plt.title('Plot of ElecPrice over Time');"
      ],
      "metadata": {
        "colab": {
          "base_uri": "https://localhost:8080/",
          "height": 410
        },
        "id": "jfu3E1OIGBgC",
        "outputId": "00119b0d-79cb-4783-eec1-29008aa87789"
      },
      "execution_count": 9,
      "outputs": [
        {
          "output_type": "display_data",
          "data": {
            "text/plain": [
              "<Figure size 800x400 with 1 Axes>"
            ],
            "image/png": "[encoded data removed]"
          },
          "metadata": {}
        }
      ]
    },
    {
      "cell_type": "markdown",
      "source": [
        "### **Q.12**\n",
        "**Using the Augmented Dicky Fuller test (ADF), what is the P-value of the SysLoad and GasPrice of the resampled Data set, to 6 decimal places?**"
      ],
      "metadata": {
        "id": "JEallvcw8OS7"
      }
    },
    {
      "cell_type": "code",
      "source": [
        "from statsmodels.tsa.stattools import adfuller\n",
        "\n",
        "# Perform ADF test on the sample data\n",
        "result = adfuller(df_resampled.SysLoad)\n",
        "\n",
        "# Print the results\n",
        "print('ADF Statistic: %6f' % result[0])\n",
        "print('p-value: %6f' % result[1])"
      ],
      "metadata": {
        "colab": {
          "base_uri": "https://localhost:8080/"
        },
        "id": "uwakPT2eGBk7",
        "outputId": "d1c38909-cb0d-4990-8533-60d778e21bc1"
      },
      "execution_count": 10,
      "outputs": [
        {
          "output_type": "stream",
          "name": "stdout",
          "text": [
            "ADF Statistic: -3.690159\n",
            "p-value: 0.004254\n"
          ]
        }
      ]
    },
    {
      "cell_type": "code",
      "source": [
        "# Perform ADF test on the sample data\n",
        "result = adfuller(df_resampled.GasPrice)\n",
        "\n",
        "# Print the results\n",
        "print('ADF Statistic: %f' % result[0])\n",
        "print('p-value: %f' % result[1])"
      ],
      "metadata": {
        "colab": {
          "base_uri": "https://localhost:8080/"
        },
        "id": "rEtqdt5lGBpH",
        "outputId": "8ed55026-b72a-4c60-a47a-8a32b5ed6639"
      },
      "execution_count": 11,
      "outputs": [
        {
          "output_type": "stream",
          "name": "stdout",
          "text": [
            "ADF Statistic: -2.902767\n",
            "p-value: 0.045027\n"
          ]
        }
      ]
    },
    {
      "cell_type": "markdown",
      "source": [
        "### **Q.13**\n",
        "**Using the Augmented Dicky Fuller test (ADF) what are the 10% and 5% critical values of GasPrice and ElecPrice of the resampled Data set, to 4 decimal places?**"
      ],
      "metadata": {
        "id": "-WLtu4ab8eB0"
      }
    },
    {
      "cell_type": "code",
      "source": [
        "# critical values for GasPrice\n",
        "\n",
        "gas_result = adfuller(df_resampled['GasPrice'])\n",
        "\n",
        "print('Critical Values:')\n",
        "for key, value in result[4].items():\n",
        "    if key == '10%':\n",
        "        print('\\t%s: %.4f' % (key, value))\n",
        "    elif key == '5%':\n",
        "        print('\\t%s: %.4f' % (key, value))"
      ],
      "metadata": {
        "colab": {
          "base_uri": "https://localhost:8080/"
        },
        "id": "DY6eea0wGmJn",
        "outputId": "afe5fd24-299b-43b0-becc-4dce6ac9e409"
      },
      "execution_count": 12,
      "outputs": [
        {
          "output_type": "stream",
          "name": "stdout",
          "text": [
            "Critical Values:\n",
            "\t5%: -2.8623\n",
            "\t10%: -2.5672\n"
          ]
        }
      ]
    },
    {
      "cell_type": "code",
      "source": [
        "# Critical Values for ElecPrice \n",
        "elec_result = adfuller(df_resampled['ElecPrice'])\n",
        "\n",
        "print('Critical Values:')\n",
        "for key, value in result[4].items():\n",
        "    if key == '10%':\n",
        "        print('\\t%s: %.4f' % (key, value))\n",
        "    elif key == '5%':\n",
        "        print('\\t%s: %.4f' % (key, value))"
      ],
      "metadata": {
        "colab": {
          "base_uri": "https://localhost:8080/"
        },
        "id": "vQlpDBIuGmSx",
        "outputId": "d0f101e5-44cc-41a4-b428-e7aa3019a1d0"
      },
      "execution_count": 13,
      "outputs": [
        {
          "output_type": "stream",
          "name": "stdout",
          "text": [
            "Critical Values:\n",
            "\t5%: -2.8623\n",
            "\t10%: -2.5672\n"
          ]
        }
      ]
    },
    {
      "cell_type": "markdown",
      "source": [
        "### **Univariate Time Series Modeling**"
      ],
      "metadata": {
        "id": "QgvJirlI-2oI"
      }
    },
    {
      "cell_type": "code",
      "source": [
        "df = df_resampled.reset_index()"
      ],
      "metadata": {
        "id": "-4beVLKnGmd5"
      },
      "execution_count": 14,
      "outputs": []
    },
    {
      "cell_type": "code",
      "source": [
        "df.head()"
      ],
      "metadata": {
        "colab": {
          "base_uri": "https://localhost:8080/",
          "height": 206
        },
        "id": "ITnfl8UTHPf2",
        "outputId": "6b404da2-1c09-43c2-f746-a0f99e656599"
      },
      "execution_count": 15,
      "outputs": [
        {
          "output_type": "execute_result",
          "data": {
            "text/plain": [
              "    FullDate   Tmax    SysLoad  GasPrice  ElecPrice\n",
              "0 2010-09-01  379.2  41565.380     88.56   2751.700\n",
              "1 2010-09-02  369.6  38898.990     88.56    570.810\n",
              "2 2010-09-03  439.2  41665.760    106.80    504.975\n",
              "3 2010-09-04  328.8  35638.085     81.36    502.275\n",
              "4 2010-09-05  357.6  35611.410    106.80    500.555"
            ],
            "text/html": [
              "\n",
              "  <div id=\"df-757d1fe8-0831-4c3d-86df-6bfc0d0a010c\">\n",
              "    <div class=\"colab-df-container\">\n",
              "      <div>\n",
              "<style scoped>\n",
              "    .dataframe tbody tr th:only-of-type {\n",
              "        vertical-align: middle;\n",
              "    }\n",
              "\n",
              "    .dataframe tbody tr th {\n",
              "        vertical-align: top;\n",
              "    }\n",
              "\n",
              "    .dataframe thead th {\n",
              "        text-align: right;\n",
              "    }\n",
              "</style>\n",
              "<table border=\"1\" class=\"dataframe\">\n",
              "  <thead>\n",
              "    <tr style=\"text-align: right;\">\n",
              "      <th></th>\n",
              "      <th>FullDate</th>\n",
              "      <th>Tmax</th>\n",
              "      <th>SysLoad</th>\n",
              "      <th>GasPrice</th>\n",
              "      <th>ElecPrice</th>\n",
              "    </tr>\n",
              "  </thead>\n",
              "  <tbody>\n",
              "    <tr>\n",
              "      <th>0</th>\n",
              "      <td>2010-09-01</td>\n",
              "      <td>379.2</td>\n",
              "      <td>41565.380</td>\n",
              "      <td>88.56</td>\n",
              "      <td>2751.700</td>\n",
              "    </tr>\n",
              "    <tr>\n",
              "      <th>1</th>\n",
              "      <td>2010-09-02</td>\n",
              "      <td>369.6</td>\n",
              "      <td>38898.990</td>\n",
              "      <td>88.56</td>\n",
              "      <td>570.810</td>\n",
              "    </tr>\n",
              "    <tr>\n",
              "      <th>2</th>\n",
              "      <td>2010-09-03</td>\n",
              "      <td>439.2</td>\n",
              "      <td>41665.760</td>\n",
              "      <td>106.80</td>\n",
              "      <td>504.975</td>\n",
              "    </tr>\n",
              "    <tr>\n",
              "      <th>3</th>\n",
              "      <td>2010-09-04</td>\n",
              "      <td>328.8</td>\n",
              "      <td>35638.085</td>\n",
              "      <td>81.36</td>\n",
              "      <td>502.275</td>\n",
              "    </tr>\n",
              "    <tr>\n",
              "      <th>4</th>\n",
              "      <td>2010-09-05</td>\n",
              "      <td>357.6</td>\n",
              "      <td>35611.410</td>\n",
              "      <td>106.80</td>\n",
              "      <td>500.555</td>\n",
              "    </tr>\n",
              "  </tbody>\n",
              "</table>\n",
              "</div>\n",
              "      <button class=\"colab-df-convert\" onclick=\"convertToInteractive('df-757d1fe8-0831-4c3d-86df-6bfc0d0a010c')\"\n",
              "              title=\"Convert this dataframe to an interactive table.\"\n",
              "              style=\"display:none;\">\n",
              "        \n",
              "  <svg xmlns=\"http://www.w3.org/2000/svg\" height=\"24px\"viewBox=\"0 0 24 24\"\n",
              "       width=\"24px\">\n",
              "    <path d=\"M0 0h24v24H0V0z\" fill=\"none\"/>\n",
              "    <path d=\"M18.56 5.44l.94 2.06.94-2.06 2.06-.94-2.06-.94-.94-2.06-.94 2.06-2.06.94zm-11 1L8.5 8.5l.94-2.06 2.06-.94-2.06-.94L8.5 2.5l-.94 2.06-2.06.94zm10 10l.94 2.06.94-2.06 2.06-.94-2.06-.94-.94-2.06-.94 2.06-2.06.94z\"/><path d=\"M17.41 7.96l-1.37-1.37c-.4-.4-.92-.59-1.43-.59-.52 0-1.04.2-1.43.59L10.3 9.45l-7.72 7.72c-.78.78-.78 2.05 0 2.83L4 21.41c.39.39.9.59 1.41.59.51 0 1.02-.2 1.41-.59l7.78-7.78 2.81-2.81c.8-.78.8-2.07 0-2.86zM5.41 20L4 18.59l7.72-7.72 1.47 1.35L5.41 20z\"/>\n",
              "  </svg>\n",
              "      </button>\n",
              "      \n",
              "  <style>\n",
              "    .colab-df-container {\n",
              "      display:flex;\n",
              "      flex-wrap:wrap;\n",
              "      gap: 12px;\n",
              "    }\n",
              "\n",
              "    .colab-df-convert {\n",
              "      background-color: #E8F0FE;\n",
              "      border: none;\n",
              "      border-radius: 50%;\n",
              "      cursor: pointer;\n",
              "      display: none;\n",
              "      fill: #1967D2;\n",
              "      height: 32px;\n",
              "      padding: 0 0 0 0;\n",
              "      width: 32px;\n",
              "    }\n",
              "\n",
              "    .colab-df-convert:hover {\n",
              "      background-color: #E2EBFA;\n",
              "      box-shadow: 0px 1px 2px rgba(60, 64, 67, 0.3), 0px 1px 3px 1px rgba(60, 64, 67, 0.15);\n",
              "      fill: #174EA6;\n",
              "    }\n",
              "\n",
              "    [theme=dark] .colab-df-convert {\n",
              "      background-color: #3B4455;\n",
              "      fill: #D2E3FC;\n",
              "    }\n",
              "\n",
              "    [theme=dark] .colab-df-convert:hover {\n",
              "      background-color: #434B5C;\n",
              "      box-shadow: 0px 1px 3px 1px rgba(0, 0, 0, 0.15);\n",
              "      filter: drop-shadow(0px 1px 2px rgba(0, 0, 0, 0.3));\n",
              "      fill: #FFFFFF;\n",
              "    }\n",
              "  </style>\n",
              "\n",
              "      <script>\n",
              "        const buttonEl =\n",
              "          document.querySelector('#df-757d1fe8-0831-4c3d-86df-6bfc0d0a010c button.colab-df-convert');\n",
              "        buttonEl.style.display =\n",
              "          google.colab.kernel.accessAllowed ? 'block' : 'none';\n",
              "\n",
              "        async function convertToInteractive(key) {\n",
              "          const element = document.querySelector('#df-757d1fe8-0831-4c3d-86df-6bfc0d0a010c');\n",
              "          const dataTable =\n",
              "            await google.colab.kernel.invokeFunction('convertToInteractive',\n",
              "                                                     [key], {});\n",
              "          if (!dataTable) return;\n",
              "\n",
              "          const docLinkHtml = 'Like what you see? Visit the ' +\n",
              "            '<a target=\"_blank\" href=https://colab.research.google.com/notebooks/data_table.ipynb>data table notebook</a>'\n",
              "            + ' to learn more about interactive tables.';\n",
              "          element.innerHTML = '';\n",
              "          dataTable['output_type'] = 'display_data';\n",
              "          await google.colab.output.renderOutput(dataTable, element);\n",
              "          const docLink = document.createElement('div');\n",
              "          docLink.innerHTML = docLinkHtml;\n",
              "          element.appendChild(docLink);\n",
              "        }\n",
              "      </script>\n",
              "    </div>\n",
              "  </div>\n",
              "  "
            ]
          },
          "metadata": {},
          "execution_count": 15
        }
      ]
    },
    {
      "cell_type": "code",
      "source": [
        "# make a copy before prediction\n",
        "uts_df = df.copy()"
      ],
      "metadata": {
        "id": "77Vf3EhOkak8"
      },
      "execution_count": 16,
      "outputs": []
    },
    {
      "cell_type": "code",
      "source": [
        "# rename columns\n",
        "uts_df = uts_df.rename(columns={'FullDate': 'ds', 'ElecPrice': 'y'})"
      ],
      "metadata": {
        "id": "b5ElNsxqHPn-"
      },
      "execution_count": 17,
      "outputs": []
    },
    {
      "cell_type": "code",
      "source": [
        "# split data into train and  test\n",
        "train_df = uts_df[:2757]\n",
        "test_df = uts_df[2757:]"
      ],
      "metadata": {
        "id": "NQsaJFn8HPsz"
      },
      "execution_count": 18,
      "outputs": []
    },
    {
      "cell_type": "code",
      "source": [
        "model = Prophet() \n",
        "\n",
        "#train the model\n",
        "model.fit(train_df[['ds', 'y']])"
      ],
      "metadata": {
        "colab": {
          "base_uri": "https://localhost:8080/"
        },
        "id": "z8k6lItnGBtU",
        "outputId": "aea4655a-372d-4fb7-fcf2-af82da2c1f1f"
      },
      "execution_count": 19,
      "outputs": [
        {
          "output_type": "stream",
          "name": "stderr",
          "text": [
            "INFO:prophet:Disabling daily seasonality. Run prophet with daily_seasonality=True to override this.\n",
            "DEBUG:cmdstanpy:input tempfile: /tmp/tmppfh0khcj/3nt4oeca.json\n",
            "DEBUG:cmdstanpy:input tempfile: /tmp/tmppfh0khcj/tldzx56p.json\n",
            "DEBUG:cmdstanpy:idx 0\n",
            "DEBUG:cmdstanpy:running CmdStan, num_threads: None\n",
            "DEBUG:cmdstanpy:CmdStan args: ['/usr/local/lib/python3.9/dist-packages/prophet/stan_model/prophet_model.bin', 'random', 'seed=17794', 'data', 'file=/tmp/tmppfh0khcj/3nt4oeca.json', 'init=/tmp/tmppfh0khcj/tldzx56p.json', 'output', 'file=/tmp/tmppfh0khcj/prophet_modelxp54_mxw/prophet_model-20230404205526.csv', 'method=optimize', 'algorithm=lbfgs', 'iter=10000']\n",
            "20:55:26 - cmdstanpy - INFO - Chain [1] start processing\n",
            "INFO:cmdstanpy:Chain [1] start processing\n",
            "20:55:27 - cmdstanpy - INFO - Chain [1] done processing\n",
            "INFO:cmdstanpy:Chain [1] done processing\n"
          ]
        },
        {
          "output_type": "execute_result",
          "data": {
            "text/plain": [
              "<prophet.forecaster.Prophet at 0x7fc6f5624a90>"
            ]
          },
          "metadata": {},
          "execution_count": 19
        }
      ]
    },
    {
      "cell_type": "code",
      "source": [
        "# predict on the test set\n",
        "forecast = model.predict(test_df[['ds']])\n",
        "forecast.head(4)"
      ],
      "metadata": {
        "colab": {
          "base_uri": "https://localhost:8080/",
          "height": 308
        },
        "id": "aqTYlheKH_Kj",
        "outputId": "07eaa2c5-a056-465b-8fee-263e8dc20492"
      },
      "execution_count": 20,
      "outputs": [
        {
          "output_type": "execute_result",
          "data": {
            "text/plain": [
              "          ds        trend  yhat_lower   yhat_upper  trend_lower  trend_upper  \\\n",
              "0 2018-03-20  2687.807715  162.034963  4845.909594  2687.807715  2687.807715   \n",
              "1 2018-03-21  2688.609367  402.484954  5004.627597  2688.609367  2688.609367   \n",
              "2 2018-03-22  2689.411018  272.556420  5196.707906  2689.411018  2689.411018   \n",
              "3 2018-03-23  2690.212670  100.365007  5002.862135  2690.212670  2690.212670   \n",
              "\n",
              "   additive_terms  additive_terms_lower  additive_terms_upper      weekly  \\\n",
              "0     -155.281939           -155.281939           -155.281939    9.737752   \n",
              "1       -2.749381             -2.749381             -2.749381  159.365206   \n",
              "2       95.475991             95.475991             95.475991  257.121966   \n",
              "3     -113.171619           -113.171619           -113.171619   50.276706   \n",
              "\n",
              "   weekly_lower  weekly_upper      yearly  yearly_lower  yearly_upper  \\\n",
              "0      9.737752      9.737752 -165.019691   -165.019691   -165.019691   \n",
              "1    159.365206    159.365206 -162.114587   -162.114587   -162.114587   \n",
              "2    257.121966    257.121966 -161.645975   -161.645975   -161.645975   \n",
              "3     50.276706     50.276706 -163.448325   -163.448325   -163.448325   \n",
              "\n",
              "   multiplicative_terms  multiplicative_terms_lower  \\\n",
              "0                   0.0                         0.0   \n",
              "1                   0.0                         0.0   \n",
              "2                   0.0                         0.0   \n",
              "3                   0.0                         0.0   \n",
              "\n",
              "   multiplicative_terms_upper         yhat  \n",
              "0                         0.0  2532.525776  \n",
              "1                         0.0  2685.859986  \n",
              "2                         0.0  2784.887009  \n",
              "3                         0.0  2577.041051  "
            ],
            "text/html": [
              "\n",
              "  <div id=\"df-d3de6da3-c52b-4466-a456-20a8fc553055\">\n",
              "    <div class=\"colab-df-container\">\n",
              "      <div>\n",
              "<style scoped>\n",
              "    .dataframe tbody tr th:only-of-type {\n",
              "        vertical-align: middle;\n",
              "    }\n",
              "\n",
              "    .dataframe tbody tr th {\n",
              "        vertical-align: top;\n",
              "    }\n",
              "\n",
              "    .dataframe thead th {\n",
              "        text-align: right;\n",
              "    }\n",
              "</style>\n",
              "<table border=\"1\" class=\"dataframe\">\n",
              "  <thead>\n",
              "    <tr style=\"text-align: right;\">\n",
              "      <th></th>\n",
              "      <th>ds</th>\n",
              "      <th>trend</th>\n",
              "      <th>yhat_lower</th>\n",
              "      <th>yhat_upper</th>\n",
              "      <th>trend_lower</th>\n",
              "      <th>trend_upper</th>\n",
              "      <th>additive_terms</th>\n",
              "      <th>additive_terms_lower</th>\n",
              "      <th>additive_terms_upper</th>\n",
              "      <th>weekly</th>\n",
              "      <th>weekly_lower</th>\n",
              "      <th>weekly_upper</th>\n",
              "      <th>yearly</th>\n",
              "      <th>yearly_lower</th>\n",
              "      <th>yearly_upper</th>\n",
              "      <th>multiplicative_terms</th>\n",
              "      <th>multiplicative_terms_lower</th>\n",
              "      <th>multiplicative_terms_upper</th>\n",
              "      <th>yhat</th>\n",
              "    </tr>\n",
              "  </thead>\n",
              "  <tbody>\n",
              "    <tr>\n",
              "      <th>0</th>\n",
              "      <td>2018-03-20</td>\n",
              "      <td>2687.807715</td>\n",
              "      <td>162.034963</td>\n",
              "      <td>4845.909594</td>\n",
              "      <td>2687.807715</td>\n",
              "      <td>2687.807715</td>\n",
              "      <td>-155.281939</td>\n",
              "      <td>-155.281939</td>\n",
              "      <td>-155.281939</td>\n",
              "      <td>9.737752</td>\n",
              "      <td>9.737752</td>\n",
              "      <td>9.737752</td>\n",
              "      <td>-165.019691</td>\n",
              "      <td>-165.019691</td>\n",
              "      <td>-165.019691</td>\n",
              "      <td>0.0</td>\n",
              "      <td>0.0</td>\n",
              "      <td>0.0</td>\n",
              "      <td>2532.525776</td>\n",
              "    </tr>\n",
              "    <tr>\n",
              "      <th>1</th>\n",
              "      <td>2018-03-21</td>\n",
              "      <td>2688.609367</td>\n",
              "      <td>402.484954</td>\n",
              "      <td>5004.627597</td>\n",
              "      <td>2688.609367</td>\n",
              "      <td>2688.609367</td>\n",
              "      <td>-2.749381</td>\n",
              "      <td>-2.749381</td>\n",
              "      <td>-2.749381</td>\n",
              "      <td>159.365206</td>\n",
              "      <td>159.365206</td>\n",
              "      <td>159.365206</td>\n",
              "      <td>-162.114587</td>\n",
              "      <td>-162.114587</td>\n",
              "      <td>-162.114587</td>\n",
              "      <td>0.0</td>\n",
              "      <td>0.0</td>\n",
              "      <td>0.0</td>\n",
              "      <td>2685.859986</td>\n",
              "    </tr>\n",
              "    <tr>\n",
              "      <th>2</th>\n",
              "      <td>2018-03-22</td>\n",
              "      <td>2689.411018</td>\n",
              "      <td>272.556420</td>\n",
              "      <td>5196.707906</td>\n",
              "      <td>2689.411018</td>\n",
              "      <td>2689.411018</td>\n",
              "      <td>95.475991</td>\n",
              "      <td>95.475991</td>\n",
              "      <td>95.475991</td>\n",
              "      <td>257.121966</td>\n",
              "      <td>257.121966</td>\n",
              "      <td>257.121966</td>\n",
              "      <td>-161.645975</td>\n",
              "      <td>-161.645975</td>\n",
              "      <td>-161.645975</td>\n",
              "      <td>0.0</td>\n",
              "      <td>0.0</td>\n",
              "      <td>0.0</td>\n",
              "      <td>2784.887009</td>\n",
              "    </tr>\n",
              "    <tr>\n",
              "      <th>3</th>\n",
              "      <td>2018-03-23</td>\n",
              "      <td>2690.212670</td>\n",
              "      <td>100.365007</td>\n",
              "      <td>5002.862135</td>\n",
              "      <td>2690.212670</td>\n",
              "      <td>2690.212670</td>\n",
              "      <td>-113.171619</td>\n",
              "      <td>-113.171619</td>\n",
              "      <td>-113.171619</td>\n",
              "      <td>50.276706</td>\n",
              "      <td>50.276706</td>\n",
              "      <td>50.276706</td>\n",
              "      <td>-163.448325</td>\n",
              "      <td>-163.448325</td>\n",
              "      <td>-163.448325</td>\n",
              "      <td>0.0</td>\n",
              "      <td>0.0</td>\n",
              "      <td>0.0</td>\n",
              "      <td>2577.041051</td>\n",
              "    </tr>\n",
              "  </tbody>\n",
              "</table>\n",
              "</div>\n",
              "      <button class=\"colab-df-convert\" onclick=\"convertToInteractive('df-d3de6da3-c52b-4466-a456-20a8fc553055')\"\n",
              "              title=\"Convert this dataframe to an interactive table.\"\n",
              "              style=\"display:none;\">\n",
              "        \n",
              "  <svg xmlns=\"http://www.w3.org/2000/svg\" height=\"24px\"viewBox=\"0 0 24 24\"\n",
              "       width=\"24px\">\n",
              "    <path d=\"M0 0h24v24H0V0z\" fill=\"none\"/>\n",
              "    <path d=\"M18.56 5.44l.94 2.06.94-2.06 2.06-.94-2.06-.94-.94-2.06-.94 2.06-2.06.94zm-11 1L8.5 8.5l.94-2.06 2.06-.94-2.06-.94L8.5 2.5l-.94 2.06-2.06.94zm10 10l.94 2.06.94-2.06 2.06-.94-2.06-.94-.94-2.06-.94 2.06-2.06.94z\"/><path d=\"M17.41 7.96l-1.37-1.37c-.4-.4-.92-.59-1.43-.59-.52 0-1.04.2-1.43.59L10.3 9.45l-7.72 7.72c-.78.78-.78 2.05 0 2.83L4 21.41c.39.39.9.59 1.41.59.51 0 1.02-.2 1.41-.59l7.78-7.78 2.81-2.81c.8-.78.8-2.07 0-2.86zM5.41 20L4 18.59l7.72-7.72 1.47 1.35L5.41 20z\"/>\n",
              "  </svg>\n",
              "      </button>\n",
              "      \n",
              "  <style>\n",
              "    .colab-df-container {\n",
              "      display:flex;\n",
              "      flex-wrap:wrap;\n",
              "      gap: 12px;\n",
              "    }\n",
              "\n",
              "    .colab-df-convert {\n",
              "      background-color: #E8F0FE;\n",
              "      border: none;\n",
              "      border-radius: 50%;\n",
              "      cursor: pointer;\n",
              "      display: none;\n",
              "      fill: #1967D2;\n",
              "      height: 32px;\n",
              "      padding: 0 0 0 0;\n",
              "      width: 32px;\n",
              "    }\n",
              "\n",
              "    .colab-df-convert:hover {\n",
              "      background-color: #E2EBFA;\n",
              "      box-shadow: 0px 1px 2px rgba(60, 64, 67, 0.3), 0px 1px 3px 1px rgba(60, 64, 67, 0.15);\n",
              "      fill: #174EA6;\n",
              "    }\n",
              "\n",
              "    [theme=dark] .colab-df-convert {\n",
              "      background-color: #3B4455;\n",
              "      fill: #D2E3FC;\n",
              "    }\n",
              "\n",
              "    [theme=dark] .colab-df-convert:hover {\n",
              "      background-color: #434B5C;\n",
              "      box-shadow: 0px 1px 3px 1px rgba(0, 0, 0, 0.15);\n",
              "      filter: drop-shadow(0px 1px 2px rgba(0, 0, 0, 0.3));\n",
              "      fill: #FFFFFF;\n",
              "    }\n",
              "  </style>\n",
              "\n",
              "      <script>\n",
              "        const buttonEl =\n",
              "          document.querySelector('#df-d3de6da3-c52b-4466-a456-20a8fc553055 button.colab-df-convert');\n",
              "        buttonEl.style.display =\n",
              "          google.colab.kernel.accessAllowed ? 'block' : 'none';\n",
              "\n",
              "        async function convertToInteractive(key) {\n",
              "          const element = document.querySelector('#df-d3de6da3-c52b-4466-a456-20a8fc553055');\n",
              "          const dataTable =\n",
              "            await google.colab.kernel.invokeFunction('convertToInteractive',\n",
              "                                                     [key], {});\n",
              "          if (!dataTable) return;\n",
              "\n",
              "          const docLinkHtml = 'Like what you see? Visit the ' +\n",
              "            '<a target=\"_blank\" href=https://colab.research.google.com/notebooks/data_table.ipynb>data table notebook</a>'\n",
              "            + ' to learn more about interactive tables.';\n",
              "          element.innerHTML = '';\n",
              "          dataTable['output_type'] = 'display_data';\n",
              "          await google.colab.output.renderOutput(dataTable, element);\n",
              "          const docLink = document.createElement('div');\n",
              "          docLink.innerHTML = docLinkHtml;\n",
              "          element.appendChild(docLink);\n",
              "        }\n",
              "      </script>\n",
              "    </div>\n",
              "  </div>\n",
              "  "
            ]
          },
          "metadata": {},
          "execution_count": 20
        }
      ]
    },
    {
      "cell_type": "markdown",
      "source": [
        "### **Q.14**\n",
        "**Evaluating the results of your time series model on the test set, what is the MAPE (in %) in 2 decimal places?**\n"
      ],
      "metadata": {
        "id": "o5qJHrKB-Nqg"
      }
    },
    {
      "cell_type": "code",
      "source": [
        "def mean_absolute_percentage_error(y_true, y_pred):\n",
        "  y_true, y_pred = np.array(y_true), np.array(y_pred)\n",
        "  return np.mean(np.abs((y_true - y_pred) / y_true)) * 100"
      ],
      "metadata": {
        "id": "Rl95hro6Baly"
      },
      "execution_count": 21,
      "outputs": []
    },
    {
      "cell_type": "code",
      "source": [
        "mape = mean_absolute_percentage_error(test_df.y, forecast.yhat)\n",
        "print('MAPE Value: ',round(mape,2))"
      ],
      "metadata": {
        "colab": {
          "base_uri": "https://localhost:8080/"
        },
        "id": "MQPoTP85BhiK",
        "outputId": "6ffd1574-b1e7-4d8d-f0f2-654cf9fa6c61"
      },
      "execution_count": 22,
      "outputs": [
        {
          "output_type": "stream",
          "name": "stdout",
          "text": [
            "MAPE Value:  546.46\n"
          ]
        }
      ]
    },
    {
      "cell_type": "markdown",
      "source": [
        "### **Q.15**\n",
        "**What is the RMSE in 2 decimal places?**"
      ],
      "metadata": {
        "id": "ELfWpVhO-dQu"
      }
    },
    {
      "cell_type": "code",
      "source": [
        "# performance evaluation using mean sqaured error\n",
        "from sklearn.metrics import mean_squared_error\n",
        "\n",
        "rms = sqrt(mean_squared_error(test_df.y, forecast.yhat))\n",
        "print(\"The RMSE is :\", round(rms,2))"
      ],
      "metadata": {
        "colab": {
          "base_uri": "https://localhost:8080/"
        },
        "id": "PU9gxHpXH_i7",
        "outputId": "d893a356-aacc-4ee0-cfc6-4def4f46ce2b"
      },
      "execution_count": 44,
      "outputs": [
        {
          "output_type": "stream",
          "name": "stdout",
          "text": [
            "The RMSE is : 3211.82\n"
          ]
        }
      ]
    },
    {
      "cell_type": "markdown",
      "source": [
        "### **Q.16**\n",
        "**If you plot the components from the forecasted model, what month of the yearly seasonality has the highest value?**"
      ],
      "metadata": {
        "id": "L6_E_0l1-_3i"
      }
    },
    {
      "cell_type": "code",
      "source": [
        "# plot the components fromm the forecasted model\n",
        "plt.figure(figsize=(12,6))\n",
        "model.plot_components(forecast)\n",
        "plt.show();"
      ],
      "metadata": {
        "colab": {
          "base_uri": "https://localhost:8080/",
          "height": 924
        },
        "id": "VMu07d0qILpP",
        "outputId": "a4abff9b-4b6e-41d4-c918-cca2709dc1ed"
      },
      "execution_count": 24,
      "outputs": [
        {
          "output_type": "display_data",
          "data": {
            "text/plain": [
              "<Figure size 1200x600 with 0 Axes>"
            ]
          },
          "metadata": {}
        },
        {
          "output_type": "display_data",
          "data": {
            "text/plain": [
              "<Figure size 900x900 with 3 Axes>"
            ],
            "image/png": "[encoded data removed]"
          },
          "metadata": {}
        }
      ]
    },
    {
      "cell_type": "markdown",
      "source": [
        "###**Multivariate Time Series**"
      ],
      "metadata": {
        "id": "q_0AuAEplLhe"
      }
    },
    {
      "cell_type": "code",
      "source": [
        "# make a copy of previous data\n",
        "mts_df = df.copy()"
      ],
      "metadata": {
        "id": "53O-CiS0IL2X"
      },
      "execution_count": 25,
      "outputs": []
    },
    {
      "cell_type": "code",
      "source": [
        "# rename columns\n",
        "mts_df = mts_df.rename(columns={'FullDate': 'ds', 'Tmax':'add1', 'SysLoad':'add2', 'GasPrice':'add3', 'ElecPrice': 'y'})\n",
        "mts_df.head()"
      ],
      "metadata": {
        "colab": {
          "base_uri": "https://localhost:8080/",
          "height": 206
        },
        "id": "yZUUJkCrlbhl",
        "outputId": "c9c1af75-20fc-4b16-858d-40734fc462cd"
      },
      "execution_count": 26,
      "outputs": [
        {
          "output_type": "execute_result",
          "data": {
            "text/plain": [
              "          ds   add1       add2    add3         y\n",
              "0 2010-09-01  379.2  41565.380   88.56  2751.700\n",
              "1 2010-09-02  369.6  38898.990   88.56   570.810\n",
              "2 2010-09-03  439.2  41665.760  106.80   504.975\n",
              "3 2010-09-04  328.8  35638.085   81.36   502.275\n",
              "4 2010-09-05  357.6  35611.410  106.80   500.555"
            ],
            "text/html": [
              "\n",
              "  <div id=\"df-b35ef3c1-5481-485c-b46b-0d0f85d01f42\">\n",
              "    <div class=\"colab-df-container\">\n",
              "      <div>\n",
              "<style scoped>\n",
              "    .dataframe tbody tr th:only-of-type {\n",
              "        vertical-align: middle;\n",
              "    }\n",
              "\n",
              "    .dataframe tbody tr th {\n",
              "        vertical-align: top;\n",
              "    }\n",
              "\n",
              "    .dataframe thead th {\n",
              "        text-align: right;\n",
              "    }\n",
              "</style>\n",
              "<table border=\"1\" class=\"dataframe\">\n",
              "  <thead>\n",
              "    <tr style=\"text-align: right;\">\n",
              "      <th></th>\n",
              "      <th>ds</th>\n",
              "      <th>add1</th>\n",
              "      <th>add2</th>\n",
              "      <th>add3</th>\n",
              "      <th>y</th>\n",
              "    </tr>\n",
              "  </thead>\n",
              "  <tbody>\n",
              "    <tr>\n",
              "      <th>0</th>\n",
              "      <td>2010-09-01</td>\n",
              "      <td>379.2</td>\n",
              "      <td>41565.380</td>\n",
              "      <td>88.56</td>\n",
              "      <td>2751.700</td>\n",
              "    </tr>\n",
              "    <tr>\n",
              "      <th>1</th>\n",
              "      <td>2010-09-02</td>\n",
              "      <td>369.6</td>\n",
              "      <td>38898.990</td>\n",
              "      <td>88.56</td>\n",
              "      <td>570.810</td>\n",
              "    </tr>\n",
              "    <tr>\n",
              "      <th>2</th>\n",
              "      <td>2010-09-03</td>\n",
              "      <td>439.2</td>\n",
              "      <td>41665.760</td>\n",
              "      <td>106.80</td>\n",
              "      <td>504.975</td>\n",
              "    </tr>\n",
              "    <tr>\n",
              "      <th>3</th>\n",
              "      <td>2010-09-04</td>\n",
              "      <td>328.8</td>\n",
              "      <td>35638.085</td>\n",
              "      <td>81.36</td>\n",
              "      <td>502.275</td>\n",
              "    </tr>\n",
              "    <tr>\n",
              "      <th>4</th>\n",
              "      <td>2010-09-05</td>\n",
              "      <td>357.6</td>\n",
              "      <td>35611.410</td>\n",
              "      <td>106.80</td>\n",
              "      <td>500.555</td>\n",
              "    </tr>\n",
              "  </tbody>\n",
              "</table>\n",
              "</div>\n",
              "      <button class=\"colab-df-convert\" onclick=\"convertToInteractive('df-b35ef3c1-5481-485c-b46b-0d0f85d01f42')\"\n",
              "              title=\"Convert this dataframe to an interactive table.\"\n",
              "              style=\"display:none;\">\n",
              "        \n",
              "  <svg xmlns=\"http://www.w3.org/2000/svg\" height=\"24px\"viewBox=\"0 0 24 24\"\n",
              "       width=\"24px\">\n",
              "    <path d=\"M0 0h24v24H0V0z\" fill=\"none\"/>\n",
              "    <path d=\"M18.56 5.44l.94 2.06.94-2.06 2.06-.94-2.06-.94-.94-2.06-.94 2.06-2.06.94zm-11 1L8.5 8.5l.94-2.06 2.06-.94-2.06-.94L8.5 2.5l-.94 2.06-2.06.94zm10 10l.94 2.06.94-2.06 2.06-.94-2.06-.94-.94-2.06-.94 2.06-2.06.94z\"/><path d=\"M17.41 7.96l-1.37-1.37c-.4-.4-.92-.59-1.43-.59-.52 0-1.04.2-1.43.59L10.3 9.45l-7.72 7.72c-.78.78-.78 2.05 0 2.83L4 21.41c.39.39.9.59 1.41.59.51 0 1.02-.2 1.41-.59l7.78-7.78 2.81-2.81c.8-.78.8-2.07 0-2.86zM5.41 20L4 18.59l7.72-7.72 1.47 1.35L5.41 20z\"/>\n",
              "  </svg>\n",
              "      </button>\n",
              "      \n",
              "  <style>\n",
              "    .colab-df-container {\n",
              "      display:flex;\n",
              "      flex-wrap:wrap;\n",
              "      gap: 12px;\n",
              "    }\n",
              "\n",
              "    .colab-df-convert {\n",
              "      background-color: #E8F0FE;\n",
              "      border: none;\n",
              "      border-radius: 50%;\n",
              "      cursor: pointer;\n",
              "      display: none;\n",
              "      fill: #1967D2;\n",
              "      height: 32px;\n",
              "      padding: 0 0 0 0;\n",
              "      width: 32px;\n",
              "    }\n",
              "\n",
              "    .colab-df-convert:hover {\n",
              "      background-color: #E2EBFA;\n",
              "      box-shadow: 0px 1px 2px rgba(60, 64, 67, 0.3), 0px 1px 3px 1px rgba(60, 64, 67, 0.15);\n",
              "      fill: #174EA6;\n",
              "    }\n",
              "\n",
              "    [theme=dark] .colab-df-convert {\n",
              "      background-color: #3B4455;\n",
              "      fill: #D2E3FC;\n",
              "    }\n",
              "\n",
              "    [theme=dark] .colab-df-convert:hover {\n",
              "      background-color: #434B5C;\n",
              "      box-shadow: 0px 1px 3px 1px rgba(0, 0, 0, 0.15);\n",
              "      filter: drop-shadow(0px 1px 2px rgba(0, 0, 0, 0.3));\n",
              "      fill: #FFFFFF;\n",
              "    }\n",
              "  </style>\n",
              "\n",
              "      <script>\n",
              "        const buttonEl =\n",
              "          document.querySelector('#df-b35ef3c1-5481-485c-b46b-0d0f85d01f42 button.colab-df-convert');\n",
              "        buttonEl.style.display =\n",
              "          google.colab.kernel.accessAllowed ? 'block' : 'none';\n",
              "\n",
              "        async function convertToInteractive(key) {\n",
              "          const element = document.querySelector('#df-b35ef3c1-5481-485c-b46b-0d0f85d01f42');\n",
              "          const dataTable =\n",
              "            await google.colab.kernel.invokeFunction('convertToInteractive',\n",
              "                                                     [key], {});\n",
              "          if (!dataTable) return;\n",
              "\n",
              "          const docLinkHtml = 'Like what you see? Visit the ' +\n",
              "            '<a target=\"_blank\" href=https://colab.research.google.com/notebooks/data_table.ipynb>data table notebook</a>'\n",
              "            + ' to learn more about interactive tables.';\n",
              "          element.innerHTML = '';\n",
              "          dataTable['output_type'] = 'display_data';\n",
              "          await google.colab.output.renderOutput(dataTable, element);\n",
              "          const docLink = document.createElement('div');\n",
              "          docLink.innerHTML = docLinkHtml;\n",
              "          element.appendChild(docLink);\n",
              "        }\n",
              "      </script>\n",
              "    </div>\n",
              "  </div>\n",
              "  "
            ]
          },
          "metadata": {},
          "execution_count": 26
        }
      ]
    },
    {
      "cell_type": "code",
      "source": [
        "# Train the model\n",
        "\n",
        "mts_model = Prophet()\n",
        "\n",
        "mts_model.add_regressor('add1')\n",
        "mts_model.add_regressor('add2')\n",
        "mts_model.add_regressor('add3')"
      ],
      "metadata": {
        "colab": {
          "base_uri": "https://localhost:8080/"
        },
        "id": "nlE4ESwYlbnL",
        "outputId": "a72c8990-70fb-4242-d438-42a6377996b5"
      },
      "execution_count": 27,
      "outputs": [
        {
          "output_type": "execute_result",
          "data": {
            "text/plain": [
              "<prophet.forecaster.Prophet at 0x7fc6f5b2dbb0>"
            ]
          },
          "metadata": {},
          "execution_count": 27
        }
      ]
    },
    {
      "cell_type": "code",
      "source": [
        "# split the data\n",
        "mtrain_df = mts_df[:2757]\n",
        "mtest_df = mts_df[2757:]"
      ],
      "metadata": {
        "id": "AnhdOzf3lbqX"
      },
      "execution_count": 28,
      "outputs": []
    },
    {
      "cell_type": "code",
      "source": [
        "# train the model\n",
        "mts_model.fit(mtrain_df)"
      ],
      "metadata": {
        "colab": {
          "base_uri": "https://localhost:8080/"
        },
        "id": "PEmuFaoWlbtg",
        "outputId": "097fc2a0-d614-4ec7-c47e-ef401c59594e"
      },
      "execution_count": 29,
      "outputs": [
        {
          "output_type": "stream",
          "name": "stderr",
          "text": [
            "INFO:prophet:Disabling daily seasonality. Run prophet with daily_seasonality=True to override this.\n",
            "DEBUG:cmdstanpy:input tempfile: /tmp/tmppfh0khcj/qhh8cq7p.json\n",
            "DEBUG:cmdstanpy:input tempfile: /tmp/tmppfh0khcj/1qnz516u.json\n",
            "DEBUG:cmdstanpy:idx 0\n",
            "DEBUG:cmdstanpy:running CmdStan, num_threads: None\n",
            "DEBUG:cmdstanpy:CmdStan args: ['/usr/local/lib/python3.9/dist-packages/prophet/stan_model/prophet_model.bin', 'random', 'seed=48880', 'data', 'file=/tmp/tmppfh0khcj/qhh8cq7p.json', 'init=/tmp/tmppfh0khcj/1qnz516u.json', 'output', 'file=/tmp/tmppfh0khcj/prophet_modelzdyjpq6t/prophet_model-20230404205618.csv', 'method=optimize', 'algorithm=lbfgs', 'iter=10000']\n",
            "20:56:18 - cmdstanpy - INFO - Chain [1] start processing\n",
            "INFO:cmdstanpy:Chain [1] start processing\n",
            "20:56:19 - cmdstanpy - INFO - Chain [1] done processing\n",
            "INFO:cmdstanpy:Chain [1] done processing\n"
          ]
        },
        {
          "output_type": "execute_result",
          "data": {
            "text/plain": [
              "<prophet.forecaster.Prophet at 0x7fc6f5b2dbb0>"
            ]
          },
          "metadata": {},
          "execution_count": 29
        }
      ]
    },
    {
      "cell_type": "code",
      "source": [
        "m_forecast = mts_model.predict(mtest_df)\n",
        "m_forecast.head()"
      ],
      "metadata": {
        "colab": {
          "base_uri": "https://localhost:8080/",
          "height": 386
        },
        "id": "o02MlQY-oxOi",
        "outputId": "6e4586c3-e861-4bab-a2c2-b6f0a9d6a73b"
      },
      "execution_count": 30,
      "outputs": [
        {
          "output_type": "execute_result",
          "data": {
            "text/plain": [
              "          ds        trend  yhat_lower   yhat_upper  trend_lower  trend_upper  \\\n",
              "0 2018-03-20  1866.593424 -295.361535  4156.489633  1866.593424  1866.593424   \n",
              "1 2018-03-21  1867.280437 -202.354173  4133.241896  1867.280437  1867.280437   \n",
              "2 2018-03-22  1867.967450  720.585418  5123.307429  1867.967450  1867.967450   \n",
              "3 2018-03-23  1868.654463  463.675782  4930.138963  1868.654463  1868.654463   \n",
              "4 2018-03-24  1869.341476 -674.209536  3750.331263  1869.341476  1869.341476   \n",
              "\n",
              "       add1  add1_lower  add1_upper         add2  ...      weekly  \\\n",
              "0  0.236126    0.236126    0.236126  -856.277661  ...  -84.510903   \n",
              "1  0.233325    0.233325    0.233325 -1026.270781  ...   42.485972   \n",
              "2  0.219750    0.219750    0.219750  -214.933731  ...  145.600772   \n",
              "3  0.211777    0.211777    0.211777  -274.864996  ...  -44.330838   \n",
              "4  0.209838    0.209838    0.209838 -1076.310143  ... -117.507690   \n",
              "\n",
              "   weekly_lower  weekly_upper     yearly  yearly_lower  yearly_upper  \\\n",
              "0    -84.510903    -84.510903 -38.986966    -38.986966    -38.986966   \n",
              "1     42.485972     42.485972 -29.705167    -29.705167    -29.705167   \n",
              "2    145.600772    145.600772 -24.679410    -24.679410    -24.679410   \n",
              "3    -44.330838    -44.330838 -23.768264    -23.768264    -23.768264   \n",
              "4   -117.507690   -117.507690 -26.720907    -26.720907    -26.720907   \n",
              "\n",
              "   multiplicative_terms  multiplicative_terms_lower  \\\n",
              "0                   0.0                         0.0   \n",
              "1                   0.0                         0.0   \n",
              "2                   0.0                         0.0   \n",
              "3                   0.0                         0.0   \n",
              "4                   0.0                         0.0   \n",
              "\n",
              "   multiplicative_terms_upper         yhat  \n",
              "0                         0.0  1986.481746  \n",
              "1                         0.0  1977.881009  \n",
              "2                         0.0  2898.032054  \n",
              "3                         0.0  2582.235531  \n",
              "4                         0.0  1435.426378  \n",
              "\n",
              "[5 rows x 31 columns]"
            ],
            "text/html": [
              "\n",
              "  <div id=\"df-ee3f31cc-aeff-4484-a130-9e891c2962a8\">\n",
              "    <div class=\"colab-df-container\">\n",
              "      <div>\n",
              "<style scoped>\n",
              "    .dataframe tbody tr th:only-of-type {\n",
              "        vertical-align: middle;\n",
              "    }\n",
              "\n",
              "    .dataframe tbody tr th {\n",
              "        vertical-align: top;\n",
              "    }\n",
              "\n",
              "    .dataframe thead th {\n",
              "        text-align: right;\n",
              "    }\n",
              "</style>\n",
              "<table border=\"1\" class=\"dataframe\">\n",
              "  <thead>\n",
              "    <tr style=\"text-align: right;\">\n",
              "      <th></th>\n",
              "      <th>ds</th>\n",
              "      <th>trend</th>\n",
              "      <th>yhat_lower</th>\n",
              "      <th>yhat_upper</th>\n",
              "      <th>trend_lower</th>\n",
              "      <th>trend_upper</th>\n",
              "      <th>add1</th>\n",
              "      <th>add1_lower</th>\n",
              "      <th>add1_upper</th>\n",
              "      <th>add2</th>\n",
              "      <th>...</th>\n",
              "      <th>weekly</th>\n",
              "      <th>weekly_lower</th>\n",
              "      <th>weekly_upper</th>\n",
              "      <th>yearly</th>\n",
              "      <th>yearly_lower</th>\n",
              "      <th>yearly_upper</th>\n",
              "      <th>multiplicative_terms</th>\n",
              "      <th>multiplicative_terms_lower</th>\n",
              "      <th>multiplicative_terms_upper</th>\n",
              "      <th>yhat</th>\n",
              "    </tr>\n",
              "  </thead>\n",
              "  <tbody>\n",
              "    <tr>\n",
              "      <th>0</th>\n",
              "      <td>2018-03-20</td>\n",
              "      <td>1866.593424</td>\n",
              "      <td>-295.361535</td>\n",
              "      <td>4156.489633</td>\n",
              "      <td>1866.593424</td>\n",
              "      <td>1866.593424</td>\n",
              "      <td>0.236126</td>\n",
              "      <td>0.236126</td>\n",
              "      <td>0.236126</td>\n",
              "      <td>-856.277661</td>\n",
              "      <td>...</td>\n",
              "      <td>-84.510903</td>\n",
              "      <td>-84.510903</td>\n",
              "      <td>-84.510903</td>\n",
              "      <td>-38.986966</td>\n",
              "      <td>-38.986966</td>\n",
              "      <td>-38.986966</td>\n",
              "      <td>0.0</td>\n",
              "      <td>0.0</td>\n",
              "      <td>0.0</td>\n",
              "      <td>1986.481746</td>\n",
              "    </tr>\n",
              "    <tr>\n",
              "      <th>1</th>\n",
              "      <td>2018-03-21</td>\n",
              "      <td>1867.280437</td>\n",
              "      <td>-202.354173</td>\n",
              "      <td>4133.241896</td>\n",
              "      <td>1867.280437</td>\n",
              "      <td>1867.280437</td>\n",
              "      <td>0.233325</td>\n",
              "      <td>0.233325</td>\n",
              "      <td>0.233325</td>\n",
              "      <td>-1026.270781</td>\n",
              "      <td>...</td>\n",
              "      <td>42.485972</td>\n",
              "      <td>42.485972</td>\n",
              "      <td>42.485972</td>\n",
              "      <td>-29.705167</td>\n",
              "      <td>-29.705167</td>\n",
              "      <td>-29.705167</td>\n",
              "      <td>0.0</td>\n",
              "      <td>0.0</td>\n",
              "      <td>0.0</td>\n",
              "      <td>1977.881009</td>\n",
              "    </tr>\n",
              "    <tr>\n",
              "      <th>2</th>\n",
              "      <td>2018-03-22</td>\n",
              "      <td>1867.967450</td>\n",
              "      <td>720.585418</td>\n",
              "      <td>5123.307429</td>\n",
              "      <td>1867.967450</td>\n",
              "      <td>1867.967450</td>\n",
              "      <td>0.219750</td>\n",
              "      <td>0.219750</td>\n",
              "      <td>0.219750</td>\n",
              "      <td>-214.933731</td>\n",
              "      <td>...</td>\n",
              "      <td>145.600772</td>\n",
              "      <td>145.600772</td>\n",
              "      <td>145.600772</td>\n",
              "      <td>-24.679410</td>\n",
              "      <td>-24.679410</td>\n",
              "      <td>-24.679410</td>\n",
              "      <td>0.0</td>\n",
              "      <td>0.0</td>\n",
              "      <td>0.0</td>\n",
              "      <td>2898.032054</td>\n",
              "    </tr>\n",
              "    <tr>\n",
              "      <th>3</th>\n",
              "      <td>2018-03-23</td>\n",
              "      <td>1868.654463</td>\n",
              "      <td>463.675782</td>\n",
              "      <td>4930.138963</td>\n",
              "      <td>1868.654463</td>\n",
              "      <td>1868.654463</td>\n",
              "      <td>0.211777</td>\n",
              "      <td>0.211777</td>\n",
              "      <td>0.211777</td>\n",
              "      <td>-274.864996</td>\n",
              "      <td>...</td>\n",
              "      <td>-44.330838</td>\n",
              "      <td>-44.330838</td>\n",
              "      <td>-44.330838</td>\n",
              "      <td>-23.768264</td>\n",
              "      <td>-23.768264</td>\n",
              "      <td>-23.768264</td>\n",
              "      <td>0.0</td>\n",
              "      <td>0.0</td>\n",
              "      <td>0.0</td>\n",
              "      <td>2582.235531</td>\n",
              "    </tr>\n",
              "    <tr>\n",
              "      <th>4</th>\n",
              "      <td>2018-03-24</td>\n",
              "      <td>1869.341476</td>\n",
              "      <td>-674.209536</td>\n",
              "      <td>3750.331263</td>\n",
              "      <td>1869.341476</td>\n",
              "      <td>1869.341476</td>\n",
              "      <td>0.209838</td>\n",
              "      <td>0.209838</td>\n",
              "      <td>0.209838</td>\n",
              "      <td>-1076.310143</td>\n",
              "      <td>...</td>\n",
              "      <td>-117.507690</td>\n",
              "      <td>-117.507690</td>\n",
              "      <td>-117.507690</td>\n",
              "      <td>-26.720907</td>\n",
              "      <td>-26.720907</td>\n",
              "      <td>-26.720907</td>\n",
              "      <td>0.0</td>\n",
              "      <td>0.0</td>\n",
              "      <td>0.0</td>\n",
              "      <td>1435.426378</td>\n",
              "    </tr>\n",
              "  </tbody>\n",
              "</table>\n",
              "<p>5 rows × 31 columns</p>\n",
              "</div>\n",
              "      <button class=\"colab-df-convert\" onclick=\"convertToInteractive('df-ee3f31cc-aeff-4484-a130-9e891c2962a8')\"\n",
              "              title=\"Convert this dataframe to an interactive table.\"\n",
              "              style=\"display:none;\">\n",
              "        \n",
              "  <svg xmlns=\"http://www.w3.org/2000/svg\" height=\"24px\"viewBox=\"0 0 24 24\"\n",
              "       width=\"24px\">\n",
              "    <path d=\"M0 0h24v24H0V0z\" fill=\"none\"/>\n",
              "    <path d=\"M18.56 5.44l.94 2.06.94-2.06 2.06-.94-2.06-.94-.94-2.06-.94 2.06-2.06.94zm-11 1L8.5 8.5l.94-2.06 2.06-.94-2.06-.94L8.5 2.5l-.94 2.06-2.06.94zm10 10l.94 2.06.94-2.06 2.06-.94-2.06-.94-.94-2.06-.94 2.06-2.06.94z\"/><path d=\"M17.41 7.96l-1.37-1.37c-.4-.4-.92-.59-1.43-.59-.52 0-1.04.2-1.43.59L10.3 9.45l-7.72 7.72c-.78.78-.78 2.05 0 2.83L4 21.41c.39.39.9.59 1.41.59.51 0 1.02-.2 1.41-.59l7.78-7.78 2.81-2.81c.8-.78.8-2.07 0-2.86zM5.41 20L4 18.59l7.72-7.72 1.47 1.35L5.41 20z\"/>\n",
              "  </svg>\n",
              "      </button>\n",
              "      \n",
              "  <style>\n",
              "    .colab-df-container {\n",
              "      display:flex;\n",
              "      flex-wrap:wrap;\n",
              "      gap: 12px;\n",
              "    }\n",
              "\n",
              "    .colab-df-convert {\n",
              "      background-color: #E8F0FE;\n",
              "      border: none;\n",
              "      border-radius: 50%;\n",
              "      cursor: pointer;\n",
              "      display: none;\n",
              "      fill: #1967D2;\n",
              "      height: 32px;\n",
              "      padding: 0 0 0 0;\n",
              "      width: 32px;\n",
              "    }\n",
              "\n",
              "    .colab-df-convert:hover {\n",
              "      background-color: #E2EBFA;\n",
              "      box-shadow: 0px 1px 2px rgba(60, 64, 67, 0.3), 0px 1px 3px 1px rgba(60, 64, 67, 0.15);\n",
              "      fill: #174EA6;\n",
              "    }\n",
              "\n",
              "    [theme=dark] .colab-df-convert {\n",
              "      background-color: #3B4455;\n",
              "      fill: #D2E3FC;\n",
              "    }\n",
              "\n",
              "    [theme=dark] .colab-df-convert:hover {\n",
              "      background-color: #434B5C;\n",
              "      box-shadow: 0px 1px 3px 1px rgba(0, 0, 0, 0.15);\n",
              "      filter: drop-shadow(0px 1px 2px rgba(0, 0, 0, 0.3));\n",
              "      fill: #FFFFFF;\n",
              "    }\n",
              "  </style>\n",
              "\n",
              "      <script>\n",
              "        const buttonEl =\n",
              "          document.querySelector('#df-ee3f31cc-aeff-4484-a130-9e891c2962a8 button.colab-df-convert');\n",
              "        buttonEl.style.display =\n",
              "          google.colab.kernel.accessAllowed ? 'block' : 'none';\n",
              "\n",
              "        async function convertToInteractive(key) {\n",
              "          const element = document.querySelector('#df-ee3f31cc-aeff-4484-a130-9e891c2962a8');\n",
              "          const dataTable =\n",
              "            await google.colab.kernel.invokeFunction('convertToInteractive',\n",
              "                                                     [key], {});\n",
              "          if (!dataTable) return;\n",
              "\n",
              "          const docLinkHtml = 'Like what you see? Visit the ' +\n",
              "            '<a target=\"_blank\" href=https://colab.research.google.com/notebooks/data_table.ipynb>data table notebook</a>'\n",
              "            + ' to learn more about interactive tables.';\n",
              "          element.innerHTML = '';\n",
              "          dataTable['output_type'] = 'display_data';\n",
              "          await google.colab.output.renderOutput(dataTable, element);\n",
              "          const docLink = document.createElement('div');\n",
              "          docLink.innerHTML = docLinkHtml;\n",
              "          element.appendChild(docLink);\n",
              "        }\n",
              "      </script>\n",
              "    </div>\n",
              "  </div>\n",
              "  "
            ]
          },
          "metadata": {},
          "execution_count": 30
        }
      ]
    },
    {
      "cell_type": "markdown",
      "source": [
        "### **Q.17**\n",
        "**Evaluating the results of your time series model on the test set, what is the MAPE (in %) in 2 decimal places?**"
      ],
      "metadata": {
        "id": "n38XzLy-_oZn"
      }
    },
    {
      "cell_type": "code",
      "source": [
        "#performance evaluation using mean absolute percentage error\n",
        "mape2 = mean_absolute_percentage_error(mtest_df.y, m_forecast.yhat)\n",
        "print('MAPE Value: ',round(mape2,2))"
      ],
      "metadata": {
        "colab": {
          "base_uri": "https://localhost:8080/"
        },
        "id": "4bRH3Hw0v9lZ",
        "outputId": "31bc3e1c-2345-4e3d-f92d-f65546f2c4ae"
      },
      "execution_count": 31,
      "outputs": [
        {
          "output_type": "stream",
          "name": "stdout",
          "text": [
            "MAPE Value:  231.6\n"
          ]
        }
      ]
    },
    {
      "cell_type": "markdown",
      "source": [
        "### **Q.18**\n",
        "**What is the RMSE in 2 decimal places?**"
      ],
      "metadata": {
        "id": "RNulWep9_wy4"
      }
    },
    {
      "cell_type": "code",
      "source": [
        "# performance evaluation using mean sqaured error\n",
        "from sklearn.metrics import mean_squared_error\n",
        "\n",
        "rms = sqrt(mean_squared_error(mtest_df.y, m_forecast.yhat))\n",
        "print(\"The RMSE is :\", round(rms,2))"
      ],
      "metadata": {
        "colab": {
          "base_uri": "https://localhost:8080/"
        },
        "id": "8jPKL4iY0FGF",
        "outputId": "89fc224c-70d7-40ab-ff99-a39ca09b4693"
      },
      "execution_count": 43,
      "outputs": [
        {
          "output_type": "stream",
          "name": "stdout",
          "text": [
            "The RMSE is : 2707.29\n"
          ]
        }
      ]
    },
    {
      "cell_type": "markdown",
      "source": [
        "### **Q.19**\n",
        "**If you plot the components from the multivariate forecasted model, what day of the daily seasonality has the highest value?**"
      ],
      "metadata": {
        "id": "HXn0zmx5EHQW"
      }
    },
    {
      "cell_type": "code",
      "source": [
        "# plot the components fromm the forecasted model\n",
        "plt.figure(figsize=(12,6))\n",
        "mts_model.plot_components(m_forecast)\n",
        "plt.show();"
      ],
      "metadata": {
        "colab": {
          "base_uri": "https://localhost:8080/",
          "height": 1000
        },
        "id": "0s3JkTDOAtF5",
        "outputId": "b665f60b-d1fc-46a1-c4d9-b18a84a4e20e"
      },
      "execution_count": 34,
      "outputs": [
        {
          "output_type": "display_data",
          "data": {
            "text/plain": [
              "<Figure size 1200x600 with 0 Axes>"
            ]
          },
          "metadata": {}
        },
        {
          "output_type": "display_data",
          "data": {
            "text/plain": [
              "<Figure size 900x1200 with 4 Axes>"
            ],
            "image/png": "[encoded data removed]"
          },
          "metadata": {}
        }
      ]
    },
    {
      "cell_type": "markdown",
      "source": [
        "### **Second Multivariate Time Series Model**\n",
        "**Train a multivariate time series model performing the same train test split as before, but now exclude T-max from the training data(drop T-max)**"
      ],
      "metadata": {
        "id": "9flTQ7Ft0j_Z"
      }
    },
    {
      "cell_type": "code",
      "source": [
        "mts2_df = df.copy()"
      ],
      "metadata": {
        "id": "V4btr7rf0bwM"
      },
      "execution_count": 35,
      "outputs": []
    },
    {
      "cell_type": "code",
      "source": [
        "# rename columns\n",
        "mts2_df = mts2_df.rename(columns={'FullDate': 'ds', 'Tmax':'add1', 'SysLoad':'add2', 'GasPrice':'add3', 'ElecPrice': 'y'})\n",
        "mts2_df.head()"
      ],
      "metadata": {
        "colab": {
          "base_uri": "https://localhost:8080/",
          "height": 206
        },
        "id": "1bsAGBd-0b8n",
        "outputId": "b463646b-7213-49a5-e598-10c6e89f72b4"
      },
      "execution_count": 36,
      "outputs": [
        {
          "output_type": "execute_result",
          "data": {
            "text/plain": [
              "          ds   add1       add2    add3         y\n",
              "0 2010-09-01  379.2  41565.380   88.56  2751.700\n",
              "1 2010-09-02  369.6  38898.990   88.56   570.810\n",
              "2 2010-09-03  439.2  41665.760  106.80   504.975\n",
              "3 2010-09-04  328.8  35638.085   81.36   502.275\n",
              "4 2010-09-05  357.6  35611.410  106.80   500.555"
            ],
            "text/html": [
              "\n",
              "  <div id=\"df-8aeb74f7-fcdb-4e04-9228-268cd6da14c6\">\n",
              "    <div class=\"colab-df-container\">\n",
              "      <div>\n",
              "<style scoped>\n",
              "    .dataframe tbody tr th:only-of-type {\n",
              "        vertical-align: middle;\n",
              "    }\n",
              "\n",
              "    .dataframe tbody tr th {\n",
              "        vertical-align: top;\n",
              "    }\n",
              "\n",
              "    .dataframe thead th {\n",
              "        text-align: right;\n",
              "    }\n",
              "</style>\n",
              "<table border=\"1\" class=\"dataframe\">\n",
              "  <thead>\n",
              "    <tr style=\"text-align: right;\">\n",
              "      <th></th>\n",
              "      <th>ds</th>\n",
              "      <th>add1</th>\n",
              "      <th>add2</th>\n",
              "      <th>add3</th>\n",
              "      <th>y</th>\n",
              "    </tr>\n",
              "  </thead>\n",
              "  <tbody>\n",
              "    <tr>\n",
              "      <th>0</th>\n",
              "      <td>2010-09-01</td>\n",
              "      <td>379.2</td>\n",
              "      <td>41565.380</td>\n",
              "      <td>88.56</td>\n",
              "      <td>2751.700</td>\n",
              "    </tr>\n",
              "    <tr>\n",
              "      <th>1</th>\n",
              "      <td>2010-09-02</td>\n",
              "      <td>369.6</td>\n",
              "      <td>38898.990</td>\n",
              "      <td>88.56</td>\n",
              "      <td>570.810</td>\n",
              "    </tr>\n",
              "    <tr>\n",
              "      <th>2</th>\n",
              "      <td>2010-09-03</td>\n",
              "      <td>439.2</td>\n",
              "      <td>41665.760</td>\n",
              "      <td>106.80</td>\n",
              "      <td>504.975</td>\n",
              "    </tr>\n",
              "    <tr>\n",
              "      <th>3</th>\n",
              "      <td>2010-09-04</td>\n",
              "      <td>328.8</td>\n",
              "      <td>35638.085</td>\n",
              "      <td>81.36</td>\n",
              "      <td>502.275</td>\n",
              "    </tr>\n",
              "    <tr>\n",
              "      <th>4</th>\n",
              "      <td>2010-09-05</td>\n",
              "      <td>357.6</td>\n",
              "      <td>35611.410</td>\n",
              "      <td>106.80</td>\n",
              "      <td>500.555</td>\n",
              "    </tr>\n",
              "  </tbody>\n",
              "</table>\n",
              "</div>\n",
              "      <button class=\"colab-df-convert\" onclick=\"convertToInteractive('df-8aeb74f7-fcdb-4e04-9228-268cd6da14c6')\"\n",
              "              title=\"Convert this dataframe to an interactive table.\"\n",
              "              style=\"display:none;\">\n",
              "        \n",
              "  <svg xmlns=\"http://www.w3.org/2000/svg\" height=\"24px\"viewBox=\"0 0 24 24\"\n",
              "       width=\"24px\">\n",
              "    <path d=\"M0 0h24v24H0V0z\" fill=\"none\"/>\n",
              "    <path d=\"M18.56 5.44l.94 2.06.94-2.06 2.06-.94-2.06-.94-.94-2.06-.94 2.06-2.06.94zm-11 1L8.5 8.5l.94-2.06 2.06-.94-2.06-.94L8.5 2.5l-.94 2.06-2.06.94zm10 10l.94 2.06.94-2.06 2.06-.94-2.06-.94-.94-2.06-.94 2.06-2.06.94z\"/><path d=\"M17.41 7.96l-1.37-1.37c-.4-.4-.92-.59-1.43-.59-.52 0-1.04.2-1.43.59L10.3 9.45l-7.72 7.72c-.78.78-.78 2.05 0 2.83L4 21.41c.39.39.9.59 1.41.59.51 0 1.02-.2 1.41-.59l7.78-7.78 2.81-2.81c.8-.78.8-2.07 0-2.86zM5.41 20L4 18.59l7.72-7.72 1.47 1.35L5.41 20z\"/>\n",
              "  </svg>\n",
              "      </button>\n",
              "      \n",
              "  <style>\n",
              "    .colab-df-container {\n",
              "      display:flex;\n",
              "      flex-wrap:wrap;\n",
              "      gap: 12px;\n",
              "    }\n",
              "\n",
              "    .colab-df-convert {\n",
              "      background-color: #E8F0FE;\n",
              "      border: none;\n",
              "      border-radius: 50%;\n",
              "      cursor: pointer;\n",
              "      display: none;\n",
              "      fill: #1967D2;\n",
              "      height: 32px;\n",
              "      padding: 0 0 0 0;\n",
              "      width: 32px;\n",
              "    }\n",
              "\n",
              "    .colab-df-convert:hover {\n",
              "      background-color: #E2EBFA;\n",
              "      box-shadow: 0px 1px 2px rgba(60, 64, 67, 0.3), 0px 1px 3px 1px rgba(60, 64, 67, 0.15);\n",
              "      fill: #174EA6;\n",
              "    }\n",
              "\n",
              "    [theme=dark] .colab-df-convert {\n",
              "      background-color: #3B4455;\n",
              "      fill: #D2E3FC;\n",
              "    }\n",
              "\n",
              "    [theme=dark] .colab-df-convert:hover {\n",
              "      background-color: #434B5C;\n",
              "      box-shadow: 0px 1px 3px 1px rgba(0, 0, 0, 0.15);\n",
              "      filter: drop-shadow(0px 1px 2px rgba(0, 0, 0, 0.3));\n",
              "      fill: #FFFFFF;\n",
              "    }\n",
              "  </style>\n",
              "\n",
              "      <script>\n",
              "        const buttonEl =\n",
              "          document.querySelector('#df-8aeb74f7-fcdb-4e04-9228-268cd6da14c6 button.colab-df-convert');\n",
              "        buttonEl.style.display =\n",
              "          google.colab.kernel.accessAllowed ? 'block' : 'none';\n",
              "\n",
              "        async function convertToInteractive(key) {\n",
              "          const element = document.querySelector('#df-8aeb74f7-fcdb-4e04-9228-268cd6da14c6');\n",
              "          const dataTable =\n",
              "            await google.colab.kernel.invokeFunction('convertToInteractive',\n",
              "                                                     [key], {});\n",
              "          if (!dataTable) return;\n",
              "\n",
              "          const docLinkHtml = 'Like what you see? Visit the ' +\n",
              "            '<a target=\"_blank\" href=https://colab.research.google.com/notebooks/data_table.ipynb>data table notebook</a>'\n",
              "            + ' to learn more about interactive tables.';\n",
              "          element.innerHTML = '';\n",
              "          dataTable['output_type'] = 'display_data';\n",
              "          await google.colab.output.renderOutput(dataTable, element);\n",
              "          const docLink = document.createElement('div');\n",
              "          docLink.innerHTML = docLinkHtml;\n",
              "          element.appendChild(docLink);\n",
              "        }\n",
              "      </script>\n",
              "    </div>\n",
              "  </div>\n",
              "  "
            ]
          },
          "metadata": {},
          "execution_count": 36
        }
      ]
    },
    {
      "cell_type": "markdown",
      "source": [
        "**Note: Since Tmax is renamed as add1, add 1 will be dropped.**"
      ],
      "metadata": {
        "id": "QLErrQiuAUpG"
      }
    },
    {
      "cell_type": "code",
      "source": [
        "# drop Tmax(add1)\n",
        "mts2_df.drop(columns = ['add1'], inplace=True)\n",
        "mts2_df.columns"
      ],
      "metadata": {
        "colab": {
          "base_uri": "https://localhost:8080/"
        },
        "id": "Epon5LKx0cCR",
        "outputId": "232b9e6a-6b1b-46da-b1ec-6e0c8fd7e486"
      },
      "execution_count": 37,
      "outputs": [
        {
          "output_type": "execute_result",
          "data": {
            "text/plain": [
              "Index(['ds', 'add2', 'add3', 'y'], dtype='object')"
            ]
          },
          "metadata": {},
          "execution_count": 37
        }
      ]
    },
    {
      "cell_type": "code",
      "source": [
        "# Train the model\n",
        "\n",
        "mts2_model = Prophet()\n",
        "\n",
        "mts2_model.add_regressor('add2')\n",
        "mts2_model.add_regressor('add3')"
      ],
      "metadata": {
        "colab": {
          "base_uri": "https://localhost:8080/"
        },
        "id": "tAnVgBpn0cHE",
        "outputId": "9df51a80-e65c-45e5-fd51-23bb012c4fa6"
      },
      "execution_count": 38,
      "outputs": [
        {
          "output_type": "execute_result",
          "data": {
            "text/plain": [
              "<prophet.forecaster.Prophet at 0x7fc6efda5fa0>"
            ]
          },
          "metadata": {},
          "execution_count": 38
        }
      ]
    },
    {
      "cell_type": "code",
      "source": [
        "# split the data\n",
        "m2_train = mts2_df[:2757]\n",
        "m2_test = mts2_df[2757:]"
      ],
      "metadata": {
        "id": "rWen55oh1sKq"
      },
      "execution_count": 39,
      "outputs": []
    },
    {
      "cell_type": "code",
      "source": [
        "# train the model\n",
        "mts2_model.fit(m2_train)"
      ],
      "metadata": {
        "colab": {
          "base_uri": "https://localhost:8080/"
        },
        "id": "YL3jFxW514VO",
        "outputId": "ca984640-bfa1-45b3-fae6-18a4e9b49c71"
      },
      "execution_count": 40,
      "outputs": [
        {
          "output_type": "stream",
          "name": "stderr",
          "text": [
            "INFO:prophet:Disabling daily seasonality. Run prophet with daily_seasonality=True to override this.\n",
            "DEBUG:cmdstanpy:input tempfile: /tmp/tmppfh0khcj/1mca0npq.json\n",
            "DEBUG:cmdstanpy:input tempfile: /tmp/tmppfh0khcj/_5nci52t.json\n",
            "DEBUG:cmdstanpy:idx 0\n",
            "DEBUG:cmdstanpy:running CmdStan, num_threads: None\n",
            "DEBUG:cmdstanpy:CmdStan args: ['/usr/local/lib/python3.9/dist-packages/prophet/stan_model/prophet_model.bin', 'random', 'seed=75278', 'data', 'file=/tmp/tmppfh0khcj/1mca0npq.json', 'init=/tmp/tmppfh0khcj/_5nci52t.json', 'output', 'file=/tmp/tmppfh0khcj/prophet_modelf0jftlgs/prophet_model-20230404210349.csv', 'method=optimize', 'algorithm=lbfgs', 'iter=10000']\n",
            "21:03:49 - cmdstanpy - INFO - Chain [1] start processing\n",
            "INFO:cmdstanpy:Chain [1] start processing\n",
            "21:03:50 - cmdstanpy - INFO - Chain [1] done processing\n",
            "INFO:cmdstanpy:Chain [1] done processing\n"
          ]
        },
        {
          "output_type": "execute_result",
          "data": {
            "text/plain": [
              "<prophet.forecaster.Prophet at 0x7fc6efda5fa0>"
            ]
          },
          "metadata": {},
          "execution_count": 40
        }
      ]
    },
    {
      "cell_type": "code",
      "source": [
        "m2_forecast = mts2_model.predict(m2_test)\n",
        "m2_forecast.head(4)"
      ],
      "metadata": {
        "colab": {
          "base_uri": "https://localhost:8080/",
          "height": 338
        },
        "id": "rNtqnjuq2BCD",
        "outputId": "041d341c-b038-4b11-eb1e-e0219bea5a67"
      },
      "execution_count": 41,
      "outputs": [
        {
          "output_type": "execute_result",
          "data": {
            "text/plain": [
              "          ds        trend  yhat_lower   yhat_upper  trend_lower  trend_upper  \\\n",
              "0 2018-03-20  1867.410717 -155.448887  4287.940510  1867.410717  1867.410717   \n",
              "1 2018-03-21  1868.104240  -60.920830  4381.144087  1868.104240  1868.104240   \n",
              "2 2018-03-22  1868.797763  739.667689  4991.636806  1868.797763  1868.797763   \n",
              "3 2018-03-23  1869.491286  427.773442  4796.424686  1869.491286  1869.491286   \n",
              "\n",
              "          add2   add2_lower   add2_upper         add3  ...      weekly  \\\n",
              "0  -856.302598  -856.302598  -856.302598  1100.720231  ...  -84.284361   \n",
              "1 -1026.300669 -1026.300669 -1026.300669  1125.178448  ...   42.682305   \n",
              "2  -214.939991  -214.939991  -214.939991  1125.178448  ...  145.286035   \n",
              "3  -274.873001  -274.873001  -274.873001  1057.575232  ...  -44.094332   \n",
              "\n",
              "   weekly_lower  weekly_upper     yearly  yearly_lower  yearly_upper  \\\n",
              "0    -84.284361    -84.284361 -38.791479    -38.791479    -38.791479   \n",
              "1     42.682305     42.682305 -29.498186    -29.498186    -29.498186   \n",
              "2    145.286035    145.286035 -24.457953    -24.457953    -24.457953   \n",
              "3    -44.094332    -44.094332 -23.529598    -23.529598    -23.529598   \n",
              "\n",
              "   multiplicative_terms  multiplicative_terms_lower  \\\n",
              "0                   0.0                         0.0   \n",
              "1                   0.0                         0.0   \n",
              "2                   0.0                         0.0   \n",
              "3                   0.0                         0.0   \n",
              "\n",
              "   multiplicative_terms_upper         yhat  \n",
              "0                         0.0  1988.752510  \n",
              "1                         0.0  1980.166139  \n",
              "2                         0.0  2899.864303  \n",
              "3                         0.0  2584.569587  \n",
              "\n",
              "[4 rows x 28 columns]"
            ],
            "text/html": [
              "\n",
              "  <div id=\"df-32cf9647-7ec8-45f7-b565-c21ae4bbd0b7\">\n",
              "    <div class=\"colab-df-container\">\n",
              "      <div>\n",
              "<style scoped>\n",
              "    .dataframe tbody tr th:only-of-type {\n",
              "        vertical-align: middle;\n",
              "    }\n",
              "\n",
              "    .dataframe tbody tr th {\n",
              "        vertical-align: top;\n",
              "    }\n",
              "\n",
              "    .dataframe thead th {\n",
              "        text-align: right;\n",
              "    }\n",
              "</style>\n",
              "<table border=\"1\" class=\"dataframe\">\n",
              "  <thead>\n",
              "    <tr style=\"text-align: right;\">\n",
              "      <th></th>\n",
              "      <th>ds</th>\n",
              "      <th>trend</th>\n",
              "      <th>yhat_lower</th>\n",
              "      <th>yhat_upper</th>\n",
              "      <th>trend_lower</th>\n",
              "      <th>trend_upper</th>\n",
              "      <th>add2</th>\n",
              "      <th>add2_lower</th>\n",
              "      <th>add2_upper</th>\n",
              "      <th>add3</th>\n",
              "      <th>...</th>\n",
              "      <th>weekly</th>\n",
              "      <th>weekly_lower</th>\n",
              "      <th>weekly_upper</th>\n",
              "      <th>yearly</th>\n",
              "      <th>yearly_lower</th>\n",
              "      <th>yearly_upper</th>\n",
              "      <th>multiplicative_terms</th>\n",
              "      <th>multiplicative_terms_lower</th>\n",
              "      <th>multiplicative_terms_upper</th>\n",
              "      <th>yhat</th>\n",
              "    </tr>\n",
              "  </thead>\n",
              "  <tbody>\n",
              "    <tr>\n",
              "      <th>0</th>\n",
              "      <td>2018-03-20</td>\n",
              "      <td>1867.410717</td>\n",
              "      <td>-155.448887</td>\n",
              "      <td>4287.940510</td>\n",
              "      <td>1867.410717</td>\n",
              "      <td>1867.410717</td>\n",
              "      <td>-856.302598</td>\n",
              "      <td>-856.302598</td>\n",
              "      <td>-856.302598</td>\n",
              "      <td>1100.720231</td>\n",
              "      <td>...</td>\n",
              "      <td>-84.284361</td>\n",
              "      <td>-84.284361</td>\n",
              "      <td>-84.284361</td>\n",
              "      <td>-38.791479</td>\n",
              "      <td>-38.791479</td>\n",
              "      <td>-38.791479</td>\n",
              "      <td>0.0</td>\n",
              "      <td>0.0</td>\n",
              "      <td>0.0</td>\n",
              "      <td>1988.752510</td>\n",
              "    </tr>\n",
              "    <tr>\n",
              "      <th>1</th>\n",
              "      <td>2018-03-21</td>\n",
              "      <td>1868.104240</td>\n",
              "      <td>-60.920830</td>\n",
              "      <td>4381.144087</td>\n",
              "      <td>1868.104240</td>\n",
              "      <td>1868.104240</td>\n",
              "      <td>-1026.300669</td>\n",
              "      <td>-1026.300669</td>\n",
              "      <td>-1026.300669</td>\n",
              "      <td>1125.178448</td>\n",
              "      <td>...</td>\n",
              "      <td>42.682305</td>\n",
              "      <td>42.682305</td>\n",
              "      <td>42.682305</td>\n",
              "      <td>-29.498186</td>\n",
              "      <td>-29.498186</td>\n",
              "      <td>-29.498186</td>\n",
              "      <td>0.0</td>\n",
              "      <td>0.0</td>\n",
              "      <td>0.0</td>\n",
              "      <td>1980.166139</td>\n",
              "    </tr>\n",
              "    <tr>\n",
              "      <th>2</th>\n",
              "      <td>2018-03-22</td>\n",
              "      <td>1868.797763</td>\n",
              "      <td>739.667689</td>\n",
              "      <td>4991.636806</td>\n",
              "      <td>1868.797763</td>\n",
              "      <td>1868.797763</td>\n",
              "      <td>-214.939991</td>\n",
              "      <td>-214.939991</td>\n",
              "      <td>-214.939991</td>\n",
              "      <td>1125.178448</td>\n",
              "      <td>...</td>\n",
              "      <td>145.286035</td>\n",
              "      <td>145.286035</td>\n",
              "      <td>145.286035</td>\n",
              "      <td>-24.457953</td>\n",
              "      <td>-24.457953</td>\n",
              "      <td>-24.457953</td>\n",
              "      <td>0.0</td>\n",
              "      <td>0.0</td>\n",
              "      <td>0.0</td>\n",
              "      <td>2899.864303</td>\n",
              "    </tr>\n",
              "    <tr>\n",
              "      <th>3</th>\n",
              "      <td>2018-03-23</td>\n",
              "      <td>1869.491286</td>\n",
              "      <td>427.773442</td>\n",
              "      <td>4796.424686</td>\n",
              "      <td>1869.491286</td>\n",
              "      <td>1869.491286</td>\n",
              "      <td>-274.873001</td>\n",
              "      <td>-274.873001</td>\n",
              "      <td>-274.873001</td>\n",
              "      <td>1057.575232</td>\n",
              "      <td>...</td>\n",
              "      <td>-44.094332</td>\n",
              "      <td>-44.094332</td>\n",
              "      <td>-44.094332</td>\n",
              "      <td>-23.529598</td>\n",
              "      <td>-23.529598</td>\n",
              "      <td>-23.529598</td>\n",
              "      <td>0.0</td>\n",
              "      <td>0.0</td>\n",
              "      <td>0.0</td>\n",
              "      <td>2584.569587</td>\n",
              "    </tr>\n",
              "  </tbody>\n",
              "</table>\n",
              "<p>4 rows × 28 columns</p>\n",
              "</div>\n",
              "      <button class=\"colab-df-convert\" onclick=\"convertToInteractive('df-32cf9647-7ec8-45f7-b565-c21ae4bbd0b7')\"\n",
              "              title=\"Convert this dataframe to an interactive table.\"\n",
              "              style=\"display:none;\">\n",
              "        \n",
              "  <svg xmlns=\"http://www.w3.org/2000/svg\" height=\"24px\"viewBox=\"0 0 24 24\"\n",
              "       width=\"24px\">\n",
              "    <path d=\"M0 0h24v24H0V0z\" fill=\"none\"/>\n",
              "    <path d=\"M18.56 5.44l.94 2.06.94-2.06 2.06-.94-2.06-.94-.94-2.06-.94 2.06-2.06.94zm-11 1L8.5 8.5l.94-2.06 2.06-.94-2.06-.94L8.5 2.5l-.94 2.06-2.06.94zm10 10l.94 2.06.94-2.06 2.06-.94-2.06-.94-.94-2.06-.94 2.06-2.06.94z\"/><path d=\"M17.41 7.96l-1.37-1.37c-.4-.4-.92-.59-1.43-.59-.52 0-1.04.2-1.43.59L10.3 9.45l-7.72 7.72c-.78.78-.78 2.05 0 2.83L4 21.41c.39.39.9.59 1.41.59.51 0 1.02-.2 1.41-.59l7.78-7.78 2.81-2.81c.8-.78.8-2.07 0-2.86zM5.41 20L4 18.59l7.72-7.72 1.47 1.35L5.41 20z\"/>\n",
              "  </svg>\n",
              "      </button>\n",
              "      \n",
              "  <style>\n",
              "    .colab-df-container {\n",
              "      display:flex;\n",
              "      flex-wrap:wrap;\n",
              "      gap: 12px;\n",
              "    }\n",
              "\n",
              "    .colab-df-convert {\n",
              "      background-color: #E8F0FE;\n",
              "      border: none;\n",
              "      border-radius: 50%;\n",
              "      cursor: pointer;\n",
              "      display: none;\n",
              "      fill: #1967D2;\n",
              "      height: 32px;\n",
              "      padding: 0 0 0 0;\n",
              "      width: 32px;\n",
              "    }\n",
              "\n",
              "    .colab-df-convert:hover {\n",
              "      background-color: #E2EBFA;\n",
              "      box-shadow: 0px 1px 2px rgba(60, 64, 67, 0.3), 0px 1px 3px 1px rgba(60, 64, 67, 0.15);\n",
              "      fill: #174EA6;\n",
              "    }\n",
              "\n",
              "    [theme=dark] .colab-df-convert {\n",
              "      background-color: #3B4455;\n",
              "      fill: #D2E3FC;\n",
              "    }\n",
              "\n",
              "    [theme=dark] .colab-df-convert:hover {\n",
              "      background-color: #434B5C;\n",
              "      box-shadow: 0px 1px 3px 1px rgba(0, 0, 0, 0.15);\n",
              "      filter: drop-shadow(0px 1px 2px rgba(0, 0, 0, 0.3));\n",
              "      fill: #FFFFFF;\n",
              "    }\n",
              "  </style>\n",
              "\n",
              "      <script>\n",
              "        const buttonEl =\n",
              "          document.querySelector('#df-32cf9647-7ec8-45f7-b565-c21ae4bbd0b7 button.colab-df-convert');\n",
              "        buttonEl.style.display =\n",
              "          google.colab.kernel.accessAllowed ? 'block' : 'none';\n",
              "\n",
              "        async function convertToInteractive(key) {\n",
              "          const element = document.querySelector('#df-32cf9647-7ec8-45f7-b565-c21ae4bbd0b7');\n",
              "          const dataTable =\n",
              "            await google.colab.kernel.invokeFunction('convertToInteractive',\n",
              "                                                     [key], {});\n",
              "          if (!dataTable) return;\n",
              "\n",
              "          const docLinkHtml = 'Like what you see? Visit the ' +\n",
              "            '<a target=\"_blank\" href=https://colab.research.google.com/notebooks/data_table.ipynb>data table notebook</a>'\n",
              "            + ' to learn more about interactive tables.';\n",
              "          element.innerHTML = '';\n",
              "          dataTable['output_type'] = 'display_data';\n",
              "          await google.colab.output.renderOutput(dataTable, element);\n",
              "          const docLink = document.createElement('div');\n",
              "          docLink.innerHTML = docLinkHtml;\n",
              "          element.appendChild(docLink);\n",
              "        }\n",
              "      </script>\n",
              "    </div>\n",
              "  </div>\n",
              "  "
            ]
          },
          "metadata": {},
          "execution_count": 41
        }
      ]
    },
    {
      "cell_type": "markdown",
      "source": [
        "### **Q.20**\n",
        "**What is the mean absolute percentage error (MAPE) to 2 decimal places on the test set?**"
      ],
      "metadata": {
        "id": "LeJku2be_8kg"
      }
    },
    {
      "cell_type": "code",
      "source": [
        "#performance evaluation using mean absolute percentage error\n",
        "mape3 = mean_absolute_percentage_error(m2_test.y, m2_forecast.yhat)\n",
        "print('MAPE Value: ',round(mape3,2))"
      ],
      "metadata": {
        "colab": {
          "base_uri": "https://localhost:8080/"
        },
        "id": "LzNZjHId2BNS",
        "outputId": "e24349c9-ccbc-417a-dbe1-4bb41855b46e"
      },
      "execution_count": 42,
      "outputs": [
        {
          "output_type": "stream",
          "name": "stdout",
          "text": [
            "MAPE Value:  232.84\n"
          ]
        }
      ]
    }
  ]
}