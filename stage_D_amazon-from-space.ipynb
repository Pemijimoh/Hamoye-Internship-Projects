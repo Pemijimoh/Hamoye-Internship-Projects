{
 "cells": [
  {
   "cell_type": "markdown",
   "metadata": {},
   "source": [
    "# Stage D\n",
    "## Planets: Understanding the Amazon from Space"
   ]
  },
  {
   "cell_type": "code",
   "execution_count": 2,
   "metadata": {
    "_cell_guid": "b1076dfc-b9ad-4769-8c92-a6c4dae69d19",
    "_uuid": "8f2839f25d086af736a60e9eeb907d3b93b6e0e5",
    "execution": {
     "iopub.execute_input": "2023-03-21T10:17:54.446916Z",
     "iopub.status.busy": "2023-03-21T10:17:54.446376Z",
     "iopub.status.idle": "2023-03-21T10:17:54.453008Z",
     "shell.execute_reply": "2023-03-21T10:17:54.451596Z",
     "shell.execute_reply.started": "2023-03-21T10:17:54.446876Z"
    }
   },
   "outputs": [],
   "source": [
    "# This Python 3 environment comes with many helpful analytics libraries installed\n",
    "# It is defined by the kaggle/python Docker image: https://github.com/kaggle/docker-python\n",
    "# For example, here's several helpful packages to load\n",
    "\n",
    "#import numpy as np # linear algebra\n",
    "#import pandas as pd # data processing, CSV file I/O (e.g. pd.read_csv)\n",
    "\n",
    "# Input data files are available in the read-only \"../input/\" directory\n",
    "# For example, running this (by clicking run or pressing Shift+Enter) will list all files under the input directory\n",
    "\n",
    "#import os\n",
    "#for dirname, _, filenames in os.walk('/kaggle/input'):\n",
    "    #for filename in filenames:\n",
    "        #print(os.path.join(dirname, filename))\n",
    "\n",
    "# You can write up to 20GB to the current directory (/kaggle/working/) that gets preserved as output when you create a version using \"Save & Run All\" \n",
    "# You can also write temporary files to /kaggle/temp/, but they won't be saved outside of the current session"
   ]
  },
  {
   "cell_type": "code",
   "execution_count": 3,
   "metadata": {
    "execution": {
     "iopub.execute_input": "2023-03-21T10:17:58.954600Z",
     "iopub.status.busy": "2023-03-21T10:17:58.953915Z",
     "iopub.status.idle": "2023-03-21T10:18:10.602400Z",
     "shell.execute_reply": "2023-03-21T10:18:10.600895Z",
     "shell.execute_reply.started": "2023-03-21T10:17:58.954552Z"
    }
   },
   "outputs": [],
   "source": [
    "# load libraries needed\n",
    "\n",
    "import pandas as pd\n",
    "import numpy as np\n",
    "import matplotlib.pyplot as plt\n",
    "import seaborn as sns\n",
    "\n",
    "import cv2\n",
    "from tqdm import tqdm\n",
    "from keras.preprocessing import image\n",
    "from keras.utils import load_img, img_to_array\n",
    "\n",
    "from sklearn.model_selection import train_test_split\n",
    "from keras.models import Sequential\n",
    "from keras.layers import Dense, Dropout, Flatten\n",
    "from keras.layers import Conv2D, MaxPooling2D\n",
    "from keras.layers import BatchNormalization"
   ]
  },
  {
   "cell_type": "code",
   "execution_count": 4,
   "metadata": {
    "execution": {
     "iopub.execute_input": "2023-03-21T10:18:30.684685Z",
     "iopub.status.busy": "2023-03-21T10:18:30.683589Z",
     "iopub.status.idle": "2023-03-21T10:18:30.892190Z",
     "shell.execute_reply": "2023-03-21T10:18:30.890254Z",
     "shell.execute_reply.started": "2023-03-21T10:18:30.684625Z"
    }
   },
   "outputs": [],
   "source": [
    "# load data\n",
    "train_df = pd.read_csv('/kaggle/input/planets-dataset/planet/planet/train_classes.csv')\n",
    "test_df = pd.read_csv('/kaggle/input/planets-dataset/planet/planet/sample_submission.csv')"
   ]
  },
  {
   "cell_type": "code",
   "execution_count": 5,
   "metadata": {
    "execution": {
     "iopub.execute_input": "2023-03-21T10:18:35.032139Z",
     "iopub.status.busy": "2023-03-21T10:18:35.031577Z",
     "iopub.status.idle": "2023-03-21T10:18:35.039537Z",
     "shell.execute_reply": "2023-03-21T10:18:35.037870Z",
     "shell.execute_reply.started": "2023-03-21T10:18:35.032096Z"
    }
   },
   "outputs": [],
   "source": [
    "# path to the train and test images\n",
    "test_image_base_path = '/kaggle/input/planets-dataset/planet/planet/test-jpg/'\n",
    "train_image_base_path = '/kaggle/input/planets-dataset/planet/planet/train-jpg/'\n",
    "additional_test_images = '/kaggle/input/planets-dataset/test-jpg-additional/test-jpg-additional/'"
   ]
  },
  {
   "cell_type": "code",
   "execution_count": 6,
   "metadata": {
    "execution": {
     "iopub.execute_input": "2023-03-21T10:18:38.446025Z",
     "iopub.status.busy": "2023-03-21T10:18:38.445508Z",
     "iopub.status.idle": "2023-03-21T10:18:38.480715Z",
     "shell.execute_reply": "2023-03-21T10:18:38.479021Z",
     "shell.execute_reply.started": "2023-03-21T10:18:38.445985Z"
    }
   },
   "outputs": [
    {
     "data": {
      "text/html": [
       "<div>\n",
       "<style scoped>\n",
       "    .dataframe tbody tr th:only-of-type {\n",
       "        vertical-align: middle;\n",
       "    }\n",
       "\n",
       "    .dataframe tbody tr th {\n",
       "        vertical-align: top;\n",
       "    }\n",
       "\n",
       "    .dataframe thead th {\n",
       "        text-align: right;\n",
       "    }\n",
       "</style>\n",
       "<table border=\"1\" class=\"dataframe\">\n",
       "  <thead>\n",
       "    <tr style=\"text-align: right;\">\n",
       "      <th></th>\n",
       "      <th>image_name</th>\n",
       "      <th>tags</th>\n",
       "    </tr>\n",
       "  </thead>\n",
       "  <tbody>\n",
       "    <tr>\n",
       "      <th>0</th>\n",
       "      <td>train_0</td>\n",
       "      <td>haze primary</td>\n",
       "    </tr>\n",
       "    <tr>\n",
       "      <th>1</th>\n",
       "      <td>train_1</td>\n",
       "      <td>agriculture clear primary water</td>\n",
       "    </tr>\n",
       "    <tr>\n",
       "      <th>2</th>\n",
       "      <td>train_2</td>\n",
       "      <td>clear primary</td>\n",
       "    </tr>\n",
       "    <tr>\n",
       "      <th>3</th>\n",
       "      <td>train_3</td>\n",
       "      <td>clear primary</td>\n",
       "    </tr>\n",
       "    <tr>\n",
       "      <th>4</th>\n",
       "      <td>train_4</td>\n",
       "      <td>agriculture clear habitation primary road</td>\n",
       "    </tr>\n",
       "  </tbody>\n",
       "</table>\n",
       "</div>"
      ],
      "text/plain": [
       "  image_name                                       tags\n",
       "0    train_0                               haze primary\n",
       "1    train_1            agriculture clear primary water\n",
       "2    train_2                              clear primary\n",
       "3    train_3                              clear primary\n",
       "4    train_4  agriculture clear habitation primary road"
      ]
     },
     "execution_count": 6,
     "metadata": {},
     "output_type": "execute_result"
    }
   ],
   "source": [
    "# show train data\n",
    "train_df.head()"
   ]
  },
  {
   "cell_type": "code",
   "execution_count": 7,
   "metadata": {
    "execution": {
     "iopub.execute_input": "2023-03-21T10:18:41.205215Z",
     "iopub.status.busy": "2023-03-21T10:18:41.203530Z",
     "iopub.status.idle": "2023-03-21T10:18:41.222151Z",
     "shell.execute_reply": "2023-03-21T10:18:41.220356Z",
     "shell.execute_reply.started": "2023-03-21T10:18:41.205157Z"
    }
   },
   "outputs": [
    {
     "data": {
      "text/html": [
       "<div>\n",
       "<style scoped>\n",
       "    .dataframe tbody tr th:only-of-type {\n",
       "        vertical-align: middle;\n",
       "    }\n",
       "\n",
       "    .dataframe tbody tr th {\n",
       "        vertical-align: top;\n",
       "    }\n",
       "\n",
       "    .dataframe thead th {\n",
       "        text-align: right;\n",
       "    }\n",
       "</style>\n",
       "<table border=\"1\" class=\"dataframe\">\n",
       "  <thead>\n",
       "    <tr style=\"text-align: right;\">\n",
       "      <th></th>\n",
       "      <th>image_name</th>\n",
       "      <th>tags</th>\n",
       "    </tr>\n",
       "  </thead>\n",
       "  <tbody>\n",
       "    <tr>\n",
       "      <th>0</th>\n",
       "      <td>test_0</td>\n",
       "      <td>primary clear agriculture road water</td>\n",
       "    </tr>\n",
       "    <tr>\n",
       "      <th>1</th>\n",
       "      <td>test_1</td>\n",
       "      <td>primary clear agriculture road water</td>\n",
       "    </tr>\n",
       "    <tr>\n",
       "      <th>2</th>\n",
       "      <td>test_2</td>\n",
       "      <td>primary clear agriculture road water</td>\n",
       "    </tr>\n",
       "    <tr>\n",
       "      <th>3</th>\n",
       "      <td>test_3</td>\n",
       "      <td>primary clear agriculture road water</td>\n",
       "    </tr>\n",
       "    <tr>\n",
       "      <th>4</th>\n",
       "      <td>test_4</td>\n",
       "      <td>primary clear agriculture road water</td>\n",
       "    </tr>\n",
       "  </tbody>\n",
       "</table>\n",
       "</div>"
      ],
      "text/plain": [
       "  image_name                                  tags\n",
       "0     test_0  primary clear agriculture road water\n",
       "1     test_1  primary clear agriculture road water\n",
       "2     test_2  primary clear agriculture road water\n",
       "3     test_3  primary clear agriculture road water\n",
       "4     test_4  primary clear agriculture road water"
      ]
     },
     "execution_count": 7,
     "metadata": {},
     "output_type": "execute_result"
    }
   ],
   "source": [
    "# show part of test data\n",
    "test_df.head()"
   ]
  },
  {
   "cell_type": "markdown",
   "metadata": {},
   "source": [
    "## Exploratory Data Analysis (EDA)"
   ]
  },
  {
   "cell_type": "code",
   "execution_count": 8,
   "metadata": {
    "execution": {
     "iopub.execute_input": "2023-03-21T10:18:45.372421Z",
     "iopub.status.busy": "2023-03-21T10:18:45.372006Z",
     "iopub.status.idle": "2023-03-21T10:18:45.380169Z",
     "shell.execute_reply": "2023-03-21T10:18:45.378971Z",
     "shell.execute_reply.started": "2023-03-21T10:18:45.372388Z"
    }
   },
   "outputs": [
    {
     "name": "stdout",
     "output_type": "stream",
     "text": [
      "The shape of the train data: (40479, 2)\n",
      "The shape of the test data: (61191, 2)\n"
     ]
    }
   ],
   "source": [
    "# shape of the train and test data\n",
    "print('The shape of the train data:', train_df.shape)\n",
    "print('The shape of the test data:', test_df.shape)"
   ]
  },
  {
   "cell_type": "code",
   "execution_count": 9,
   "metadata": {
    "execution": {
     "iopub.execute_input": "2023-03-21T10:18:48.785733Z",
     "iopub.status.busy": "2023-03-21T10:18:48.785300Z",
     "iopub.status.idle": "2023-03-21T10:18:49.213861Z",
     "shell.execute_reply": "2023-03-21T10:18:49.212305Z",
     "shell.execute_reply.started": "2023-03-21T10:18:48.785699Z"
    }
   },
   "outputs": [
    {
     "data": {
      "text/plain": [
       "<matplotlib.image.AxesImage at 0x7f608286fad0>"
      ]
     },
     "execution_count": 9,
     "metadata": {},
     "output_type": "execute_result"
    },
    {
     "data": {
      "image/png": "[encoded data removed]",
      "text/plain": [
       "<Figure size 640x480 with 1 Axes>"
      ]
     },
     "metadata": {},
     "output_type": "display_data"
    }
   ],
   "source": [
    "# display an image in the dataset\n",
    "image = 'train_20.jpg'\n",
    "img = cv2.imread(train_image_base_path +'/' + image)\n",
    "img1 = cv2.cvtColor(img, cv2.COLOR_BGR2RGB)\n",
    "plt.imshow(img1)"
   ]
  },
  {
   "cell_type": "code",
   "execution_count": 10,
   "metadata": {
    "execution": {
     "iopub.execute_input": "2023-03-21T10:18:53.772291Z",
     "iopub.status.busy": "2023-03-21T10:18:53.771806Z",
     "iopub.status.idle": "2023-03-21T10:18:53.780563Z",
     "shell.execute_reply": "2023-03-21T10:18:53.779112Z",
     "shell.execute_reply.started": "2023-03-21T10:18:53.772251Z"
    }
   },
   "outputs": [
    {
     "name": "stdout",
     "output_type": "stream",
     "text": [
      "Shape of image (256, 256, 3)\n"
     ]
    }
   ],
   "source": [
    "print('Shape of image', img1.shape)"
   ]
  },
  {
   "cell_type": "markdown",
   "metadata": {},
   "source": [
    "## Data Preprocessing"
   ]
  },
  {
   "cell_type": "code",
   "execution_count": 11,
   "metadata": {
    "execution": {
     "iopub.execute_input": "2023-03-21T10:18:58.397822Z",
     "iopub.status.busy": "2023-03-21T10:18:58.397285Z",
     "iopub.status.idle": "2023-03-21T10:18:58.444069Z",
     "shell.execute_reply": "2023-03-21T10:18:58.442741Z",
     "shell.execute_reply.started": "2023-03-21T10:18:58.397779Z"
    }
   },
   "outputs": [],
   "source": [
    "# build list with unique labels\n",
    "label_list = []\n",
    "for tag_str in train_df.tags.values:\n",
    "    labels = tag_str.split(' ')\n",
    "    for label in labels:\n",
    "        if label not in label_list:\n",
    "            label_list.append(label)"
   ]
  },
  {
   "cell_type": "code",
   "execution_count": 12,
   "metadata": {
    "execution": {
     "iopub.execute_input": "2023-03-21T10:19:01.943325Z",
     "iopub.status.busy": "2023-03-21T10:19:01.941932Z",
     "iopub.status.idle": "2023-03-21T10:19:02.476774Z",
     "shell.execute_reply": "2023-03-21T10:19:02.474933Z",
     "shell.execute_reply.started": "2023-03-21T10:19:01.943253Z"
    }
   },
   "outputs": [
    {
     "data": {
      "text/html": [
       "<div>\n",
       "<style scoped>\n",
       "    .dataframe tbody tr th:only-of-type {\n",
       "        vertical-align: middle;\n",
       "    }\n",
       "\n",
       "    .dataframe tbody tr th {\n",
       "        vertical-align: top;\n",
       "    }\n",
       "\n",
       "    .dataframe thead th {\n",
       "        text-align: right;\n",
       "    }\n",
       "</style>\n",
       "<table border=\"1\" class=\"dataframe\">\n",
       "  <thead>\n",
       "    <tr style=\"text-align: right;\">\n",
       "      <th></th>\n",
       "      <th>image_name</th>\n",
       "      <th>tags</th>\n",
       "      <th>haze</th>\n",
       "      <th>primary</th>\n",
       "      <th>agriculture</th>\n",
       "      <th>clear</th>\n",
       "      <th>water</th>\n",
       "      <th>habitation</th>\n",
       "      <th>road</th>\n",
       "      <th>cultivation</th>\n",
       "      <th>slash_burn</th>\n",
       "      <th>cloudy</th>\n",
       "      <th>partly_cloudy</th>\n",
       "      <th>conventional_mine</th>\n",
       "      <th>bare_ground</th>\n",
       "      <th>artisinal_mine</th>\n",
       "      <th>blooming</th>\n",
       "      <th>selective_logging</th>\n",
       "      <th>blow_down</th>\n",
       "    </tr>\n",
       "  </thead>\n",
       "  <tbody>\n",
       "    <tr>\n",
       "      <th>0</th>\n",
       "      <td>train_0</td>\n",
       "      <td>haze primary</td>\n",
       "      <td>1</td>\n",
       "      <td>1</td>\n",
       "      <td>0</td>\n",
       "      <td>0</td>\n",
       "      <td>0</td>\n",
       "      <td>0</td>\n",
       "      <td>0</td>\n",
       "      <td>0</td>\n",
       "      <td>0</td>\n",
       "      <td>0</td>\n",
       "      <td>0</td>\n",
       "      <td>0</td>\n",
       "      <td>0</td>\n",
       "      <td>0</td>\n",
       "      <td>0</td>\n",
       "      <td>0</td>\n",
       "      <td>0</td>\n",
       "    </tr>\n",
       "    <tr>\n",
       "      <th>1</th>\n",
       "      <td>train_1</td>\n",
       "      <td>agriculture clear primary water</td>\n",
       "      <td>0</td>\n",
       "      <td>1</td>\n",
       "      <td>1</td>\n",
       "      <td>1</td>\n",
       "      <td>1</td>\n",
       "      <td>0</td>\n",
       "      <td>0</td>\n",
       "      <td>0</td>\n",
       "      <td>0</td>\n",
       "      <td>0</td>\n",
       "      <td>0</td>\n",
       "      <td>0</td>\n",
       "      <td>0</td>\n",
       "      <td>0</td>\n",
       "      <td>0</td>\n",
       "      <td>0</td>\n",
       "      <td>0</td>\n",
       "    </tr>\n",
       "    <tr>\n",
       "      <th>2</th>\n",
       "      <td>train_2</td>\n",
       "      <td>clear primary</td>\n",
       "      <td>0</td>\n",
       "      <td>1</td>\n",
       "      <td>0</td>\n",
       "      <td>1</td>\n",
       "      <td>0</td>\n",
       "      <td>0</td>\n",
       "      <td>0</td>\n",
       "      <td>0</td>\n",
       "      <td>0</td>\n",
       "      <td>0</td>\n",
       "      <td>0</td>\n",
       "      <td>0</td>\n",
       "      <td>0</td>\n",
       "      <td>0</td>\n",
       "      <td>0</td>\n",
       "      <td>0</td>\n",
       "      <td>0</td>\n",
       "    </tr>\n",
       "    <tr>\n",
       "      <th>3</th>\n",
       "      <td>train_3</td>\n",
       "      <td>clear primary</td>\n",
       "      <td>0</td>\n",
       "      <td>1</td>\n",
       "      <td>0</td>\n",
       "      <td>1</td>\n",
       "      <td>0</td>\n",
       "      <td>0</td>\n",
       "      <td>0</td>\n",
       "      <td>0</td>\n",
       "      <td>0</td>\n",
       "      <td>0</td>\n",
       "      <td>0</td>\n",
       "      <td>0</td>\n",
       "      <td>0</td>\n",
       "      <td>0</td>\n",
       "      <td>0</td>\n",
       "      <td>0</td>\n",
       "      <td>0</td>\n",
       "    </tr>\n",
       "    <tr>\n",
       "      <th>4</th>\n",
       "      <td>train_4</td>\n",
       "      <td>agriculture clear habitation primary road</td>\n",
       "      <td>0</td>\n",
       "      <td>1</td>\n",
       "      <td>1</td>\n",
       "      <td>1</td>\n",
       "      <td>0</td>\n",
       "      <td>1</td>\n",
       "      <td>1</td>\n",
       "      <td>0</td>\n",
       "      <td>0</td>\n",
       "      <td>0</td>\n",
       "      <td>0</td>\n",
       "      <td>0</td>\n",
       "      <td>0</td>\n",
       "      <td>0</td>\n",
       "      <td>0</td>\n",
       "      <td>0</td>\n",
       "      <td>0</td>\n",
       "    </tr>\n",
       "  </tbody>\n",
       "</table>\n",
       "</div>"
      ],
      "text/plain": [
       "  image_name                                       tags  haze  primary  \\\n",
       "0    train_0                               haze primary     1        1   \n",
       "1    train_1            agriculture clear primary water     0        1   \n",
       "2    train_2                              clear primary     0        1   \n",
       "3    train_3                              clear primary     0        1   \n",
       "4    train_4  agriculture clear habitation primary road     0        1   \n",
       "\n",
       "   agriculture  clear  water  habitation  road  cultivation  slash_burn  \\\n",
       "0            0      0      0           0     0            0           0   \n",
       "1            1      1      1           0     0            0           0   \n",
       "2            0      1      0           0     0            0           0   \n",
       "3            0      1      0           0     0            0           0   \n",
       "4            1      1      0           1     1            0           0   \n",
       "\n",
       "   cloudy  partly_cloudy  conventional_mine  bare_ground  artisinal_mine  \\\n",
       "0       0              0                  0            0               0   \n",
       "1       0              0                  0            0               0   \n",
       "2       0              0                  0            0               0   \n",
       "3       0              0                  0            0               0   \n",
       "4       0              0                  0            0               0   \n",
       "\n",
       "   blooming  selective_logging  blow_down  \n",
       "0         0                  0          0  \n",
       "1         0                  0          0  \n",
       "2         0                  0          0  \n",
       "3         0                  0          0  \n",
       "4         0                  0          0  "
      ]
     },
     "execution_count": 12,
     "metadata": {},
     "output_type": "execute_result"
    }
   ],
   "source": [
    "# Add onehot features for every label\n",
    "for label in label_list:\n",
    "    train_df[label] = train_df['tags'].apply(lambda x: 1 if label in x.split(' ') else 0)\n",
    "# Display head\n",
    "train_df.head()"
   ]
  },
  {
   "cell_type": "code",
   "execution_count": 13,
   "metadata": {
    "execution": {
     "iopub.execute_input": "2023-03-21T10:19:27.406190Z",
     "iopub.status.busy": "2023-03-21T10:19:27.405641Z",
     "iopub.status.idle": "2023-03-21T10:25:57.459787Z",
     "shell.execute_reply": "2023-03-21T10:25:57.458245Z",
     "shell.execute_reply.started": "2023-03-21T10:19:27.406143Z"
    }
   },
   "outputs": [
    {
     "name": "stderr",
     "output_type": "stream",
     "text": [
      "100%|██████████| 40479/40479 [06:28<00:00, 104.20it/s]\n"
     ]
    },
    {
     "name": "stdout",
     "output_type": "stream",
     "text": [
      "Shape of input: (40479, 75, 75, 3)\n",
      "Shape of target: (40479, 17)\n"
     ]
    }
   ],
   "source": [
    "# convert each image in the train data to array\n",
    "size = 75\n",
    "train_data = []  \n",
    "for i in tqdm(range(train_df.shape[0])):\n",
    "    img = load_img(train_image_base_path + train_df['image_name'][i] +'.jpg', target_size=(size,size,3))\n",
    "    img = img_to_array(img)\n",
    "    img = img/255.\n",
    "    train_data.append(img)\n",
    "\n",
    "# convert images to arrays\n",
    "x = np.array(train_data)\n",
    "y = np.array(train_df.drop(['image_name', 'tags'], axis=1))\n",
    "\n",
    "\n",
    "# print the shape of the train data\n",
    "print('Shape of input:', x.shape)\n",
    "print('Shape of target:', y.shape)"
   ]
  },
  {
   "cell_type": "code",
   "execution_count": 14,
   "metadata": {
    "execution": {
     "iopub.execute_input": "2023-03-21T10:25:59.434390Z",
     "iopub.status.busy": "2023-03-21T10:25:59.432657Z",
     "iopub.status.idle": "2023-03-21T10:26:00.606270Z",
     "shell.execute_reply": "2023-03-21T10:26:00.604800Z",
     "shell.execute_reply.started": "2023-03-21T10:25:59.434329Z"
    }
   },
   "outputs": [],
   "source": [
    "# split the data into train and validation set\n",
    "x_train, x_val, y_train, y_val = train_test_split(x, y, random_state=10, test_size=0.1)"
   ]
  },
  {
   "cell_type": "code",
   "execution_count": 15,
   "metadata": {
    "execution": {
     "iopub.execute_input": "2023-03-21T10:26:03.153557Z",
     "iopub.status.busy": "2023-03-21T10:26:03.153096Z",
     "iopub.status.idle": "2023-03-21T10:26:03.161853Z",
     "shell.execute_reply": "2023-03-21T10:26:03.159731Z",
     "shell.execute_reply.started": "2023-03-21T10:26:03.153512Z"
    }
   },
   "outputs": [
    {
     "name": "stdout",
     "output_type": "stream",
     "text": [
      "(36431, 75, 75, 3)\n",
      "(4048, 75, 75, 3)\n"
     ]
    }
   ],
   "source": [
    "# print the shape\n",
    "print(x_train.shape)\n",
    "print(x_val.shape)"
   ]
  },
  {
   "cell_type": "markdown",
   "metadata": {},
   "source": [
    "## Model Training"
   ]
  },
  {
   "cell_type": "markdown",
   "metadata": {},
   "source": [
    "### Model 1: Custom CNN Model"
   ]
  },
  {
   "cell_type": "code",
   "execution_count": 16,
   "metadata": {
    "execution": {
     "iopub.execute_input": "2023-03-21T10:26:18.334995Z",
     "iopub.status.busy": "2023-03-21T10:26:18.334475Z",
     "iopub.status.idle": "2023-03-21T10:26:18.718944Z",
     "shell.execute_reply": "2023-03-21T10:26:18.717217Z",
     "shell.execute_reply.started": "2023-03-21T10:26:18.334953Z"
    }
   },
   "outputs": [],
   "source": [
    "# custon CNN model (baseline model)\n",
    "\n",
    "c_model = Sequential()\n",
    "\n",
    "c_model.add(Conv2D(filters=32, kernel_size=(5, 5), activation=\"relu\", input_shape=(size,size,3)))\n",
    "c_model.add(BatchNormalization())\n",
    "c_model.add(MaxPooling2D(pool_size=(2, 2)))\n",
    "c_model.add(Dropout(0.2))\n",
    "\n",
    "c_model.add(Conv2D(filters=64, kernel_size=(5, 5), activation='relu'))\n",
    "c_model.add(MaxPooling2D(pool_size=(2, 2)))\n",
    "c_model.add(BatchNormalization())\n",
    "c_model.add(Dropout(0.2))\n",
    "\n",
    "c_model.add(Flatten())\n",
    "c_model.add(Dense(128, activation='relu'))\n",
    "c_model.add(Dropout(0.5))\n",
    "c_model.add(Dense(64, activation='relu'))\n",
    "c_model.add(Dropout(0.5))\n",
    "c_model.add(Dense(17, activation='sigmoid'))"
   ]
  },
  {
   "cell_type": "code",
   "execution_count": 17,
   "metadata": {
    "execution": {
     "iopub.execute_input": "2023-03-21T10:26:23.325052Z",
     "iopub.status.busy": "2023-03-21T10:26:23.324415Z",
     "iopub.status.idle": "2023-03-21T10:26:23.387760Z",
     "shell.execute_reply": "2023-03-21T10:26:23.386214Z",
     "shell.execute_reply.started": "2023-03-21T10:26:23.325007Z"
    }
   },
   "outputs": [
    {
     "name": "stdout",
     "output_type": "stream",
     "text": [
      "Model: \"sequential\"\n",
      "_________________________________________________________________\n",
      " Layer (type)                Output Shape              Param #   \n",
      "=================================================================\n",
      " conv2d (Conv2D)             (None, 71, 71, 32)        2432      \n",
      "                                                                 \n",
      " batch_normalization (BatchN  (None, 71, 71, 32)       128       \n",
      " ormalization)                                                   \n",
      "                                                                 \n",
      " max_pooling2d (MaxPooling2D  (None, 35, 35, 32)       0         \n",
      " )                                                               \n",
      "                                                                 \n",
      " dropout (Dropout)           (None, 35, 35, 32)        0         \n",
      "                                                                 \n",
      " conv2d_1 (Conv2D)           (None, 31, 31, 64)        51264     \n",
      "                                                                 \n",
      " max_pooling2d_1 (MaxPooling  (None, 15, 15, 64)       0         \n",
      " 2D)                                                             \n",
      "                                                                 \n",
      " batch_normalization_1 (Batc  (None, 15, 15, 64)       256       \n",
      " hNormalization)                                                 \n",
      "                                                                 \n",
      " dropout_1 (Dropout)         (None, 15, 15, 64)        0         \n",
      "                                                                 \n",
      " flatten (Flatten)           (None, 14400)             0         \n",
      "                                                                 \n",
      " dense (Dense)               (None, 128)               1843328   \n",
      "                                                                 \n",
      " dropout_2 (Dropout)         (None, 128)               0         \n",
      "                                                                 \n",
      " dense_1 (Dense)             (None, 64)                8256      \n",
      "                                                                 \n",
      " dropout_3 (Dropout)         (None, 64)                0         \n",
      "                                                                 \n",
      " dense_2 (Dense)             (None, 17)                1105      \n",
      "                                                                 \n",
      "=================================================================\n",
      "Total params: 1,906,769\n",
      "Trainable params: 1,906,577\n",
      "Non-trainable params: 192\n",
      "_________________________________________________________________\n"
     ]
    }
   ],
   "source": [
    "c_model.summary()"
   ]
  },
  {
   "cell_type": "code",
   "execution_count": 18,
   "metadata": {
    "execution": {
     "iopub.execute_input": "2023-03-21T10:26:27.694712Z",
     "iopub.status.busy": "2023-03-21T10:26:27.694225Z",
     "iopub.status.idle": "2023-03-21T10:26:27.720595Z",
     "shell.execute_reply": "2023-03-21T10:26:27.718786Z",
     "shell.execute_reply.started": "2023-03-21T10:26:27.694670Z"
    }
   },
   "outputs": [],
   "source": [
    "# compile the model\n",
    "c_model.compile(optimizer='adam', loss='binary_crossentropy', metrics=['accuracy'])"
   ]
  },
  {
   "cell_type": "code",
   "execution_count": 26,
   "metadata": {
    "execution": {
     "iopub.execute_input": "2023-03-21T06:49:22.000147Z",
     "iopub.status.busy": "2023-03-21T06:49:21.999598Z",
     "iopub.status.idle": "2023-03-21T07:14:50.154032Z",
     "shell.execute_reply": "2023-03-21T07:14:50.152416Z",
     "shell.execute_reply.started": "2023-03-21T06:49:22.000105Z"
    }
   },
   "outputs": [
    {
     "name": "stdout",
     "output_type": "stream",
     "text": [
      "Epoch 1/4\n",
      "285/285 [==============================] - 386s 1s/step - loss: 0.4500 - accuracy: 0.6146 - val_loss: 0.3527 - val_accuracy: 0.8710\n",
      "Epoch 2/4\n",
      "285/285 [==============================] - 375s 1s/step - loss: 0.2477 - accuracy: 0.8349 - val_loss: 0.2266 - val_accuracy: 0.8836\n",
      "Epoch 3/4\n",
      "285/285 [==============================] - 374s 1s/step - loss: 0.2220 - accuracy: 0.8548 - val_loss: 0.2562 - val_accuracy: 0.8710\n",
      "Epoch 4/4\n",
      "285/285 [==============================] - 374s 1s/step - loss: 0.2061 - accuracy: 0.8543 - val_loss: 0.2464 - val_accuracy: 0.8725\n"
     ]
    },
    {
     "data": {
      "text/plain": [
       "<keras.callbacks.History at 0x7fa2cc37cfd0>"
      ]
     },
     "execution_count": 26,
     "metadata": {},
     "output_type": "execute_result"
    }
   ],
   "source": [
    "# fit (train) the model\n",
    "c_model.fit(x_train, y_train, batch_size=128, epochs=4, verbose=1, validation_data=(x_val,y_val))"
   ]
  },
  {
   "cell_type": "markdown",
   "metadata": {},
   "source": [
    "#### Summary\n",
    "After 4 epochs, an accuracy of 87% was obtained on the validation set"
   ]
  },
  {
   "cell_type": "code",
   "execution_count": 28,
   "metadata": {
    "execution": {
     "iopub.execute_input": "2023-03-21T07:16:07.858031Z",
     "iopub.status.busy": "2023-03-21T07:16:07.857543Z",
     "iopub.status.idle": "2023-03-21T07:16:18.322101Z",
     "shell.execute_reply": "2023-03-21T07:16:18.320698Z",
     "shell.execute_reply.started": "2023-03-21T07:16:07.857991Z"
    }
   },
   "outputs": [
    {
     "name": "stdout",
     "output_type": "stream",
     "text": [
      "32/32 [==============================] - 10s 310ms/step\n",
      "0.7639598533421545\n"
     ]
    }
   ],
   "source": [
    "# evaluate the model using fbeta_score\n",
    "from sklearn.metrics import fbeta_score\n",
    "valid = c_model.predict(x_val, batch_size=128)\n",
    "print(fbeta_score(y_val, np.array(valid) > 0.2, beta=2, average='samples'))"
   ]
  },
  {
   "cell_type": "markdown",
   "metadata": {},
   "source": [
    "### Model 2: Transfer Learning with Inception V3"
   ]
  },
  {
   "cell_type": "code",
   "execution_count": 19,
   "metadata": {
    "execution": {
     "iopub.execute_input": "2023-03-21T10:26:36.693842Z",
     "iopub.status.busy": "2023-03-21T10:26:36.693395Z",
     "iopub.status.idle": "2023-03-21T10:26:41.680469Z",
     "shell.execute_reply": "2023-03-21T10:26:41.678844Z",
     "shell.execute_reply.started": "2023-03-21T10:26:36.693805Z"
    }
   },
   "outputs": [
    {
     "name": "stdout",
     "output_type": "stream",
     "text": [
      "Downloading data from https://storage.googleapis.com/tensorflow/keras-applications/inception_v3/inception_v3_weights_tf_dim_ordering_tf_kernels_notop.h5\n",
      "87910968/87910968 [==============================] - 1s 0us/step\n"
     ]
    }
   ],
   "source": [
    "from keras.applications.inception_v3 import InceptionV3\n",
    "from keras.models import Model \n",
    "from tensorflow.keras.callbacks import ModelCheckpoint\n",
    "from tensorflow.keras import layers\n",
    "\n",
    "    \n",
    "inceptionv3 = InceptionV3(weights=\"imagenet\", include_top=False, input_shape=(size, size, 3))\n",
    "    \n",
    "for layer in inceptionv3.layers:\n",
    "    layer.trainable = False\n",
    "    \n",
    "last_output = inceptionv3.output\n",
    "model = layers.Flatten()(last_output)\n",
    "model = layers.Dense(4096, activation=\"relu\")(model)\n",
    "model = layers.Dropout(0.2)(model)\n",
    "output = layers.Dense(17, activation=\"sigmoid\")(model)\n",
    "    \n",
    "model = Model(inputs=inceptionv3.input, outputs=output)\n",
    "model.compile(loss=\"binary_crossentropy\", optimizer=\"adam\", metrics=[\"accuracy\"])"
   ]
  },
  {
   "cell_type": "code",
   "execution_count": 20,
   "metadata": {
    "execution": {
     "iopub.execute_input": "2023-03-21T10:26:48.032954Z",
     "iopub.status.busy": "2023-03-21T10:26:48.032385Z",
     "iopub.status.idle": "2023-03-21T10:41:32.596695Z",
     "shell.execute_reply": "2023-03-21T10:41:32.595086Z",
     "shell.execute_reply.started": "2023-03-21T10:26:48.032910Z"
    }
   },
   "outputs": [
    {
     "name": "stdout",
     "output_type": "stream",
     "text": [
      "Epoch 1/4\n",
      "365/365 [==============================] - ETA: 0s - loss: 0.1658 - accuracy: 0.8050\n",
      "Epoch 1: accuracy improved from -inf to 0.80500, saving model to inceptionv3.h5\n",
      "365/365 [==============================] - 230s 614ms/step - loss: 0.1658 - accuracy: 0.8050 - val_loss: 0.1408 - val_accuracy: 0.8219\n",
      "Epoch 2/4\n",
      "365/365 [==============================] - ETA: 0s - loss: 0.1390 - accuracy: 0.8120\n",
      "Epoch 2: accuracy improved from 0.80500 to 0.81197, saving model to inceptionv3.h5\n",
      "365/365 [==============================] - 219s 600ms/step - loss: 0.1390 - accuracy: 0.8120 - val_loss: 0.1379 - val_accuracy: 0.8004\n",
      "Epoch 3/4\n",
      "365/365 [==============================] - ETA: 0s - loss: 0.1307 - accuracy: 0.8049\n",
      "Epoch 3: accuracy did not improve from 0.81197\n",
      "365/365 [==============================] - 218s 596ms/step - loss: 0.1307 - accuracy: 0.8049 - val_loss: 0.1404 - val_accuracy: 0.8463\n",
      "Epoch 4/4\n",
      "365/365 [==============================] - ETA: 0s - loss: 0.1222 - accuracy: 0.7994\n",
      "Epoch 4: accuracy did not improve from 0.81197\n",
      "365/365 [==============================] - 215s 590ms/step - loss: 0.1222 - accuracy: 0.7994 - val_loss: 0.1387 - val_accuracy: 0.7747\n"
     ]
    },
    {
     "data": {
      "text/plain": [
       "<keras.callbacks.History at 0x7f6070466290>"
      ]
     },
     "execution_count": 20,
     "metadata": {},
     "output_type": "execute_result"
    }
   ],
   "source": [
    "model_checkpoint = ModelCheckpoint('inceptionv3.h5', monitor=\"accuracy\",verbose=1, save_best_only=True)\n",
    "model.fit(x_train, y_train, batch_size=100, epochs=4, validation_data=(x_val, y_val), callbacks=[model_checkpoint])"
   ]
  },
  {
   "cell_type": "code",
   "execution_count": 21,
   "metadata": {
    "execution": {
     "iopub.execute_input": "2023-03-21T10:42:53.103486Z",
     "iopub.status.busy": "2023-03-21T10:42:53.101911Z",
     "iopub.status.idle": "2023-03-21T10:43:15.515995Z",
     "shell.execute_reply": "2023-03-21T10:43:15.514684Z",
     "shell.execute_reply.started": "2023-03-21T10:42:53.103421Z"
    }
   },
   "outputs": [
    {
     "name": "stdout",
     "output_type": "stream",
     "text": [
      "32/32 [==============================] - 19s 559ms/step\n",
      "0.8762918651070168\n"
     ]
    }
   ],
   "source": [
    "# evaluate model with fbeta_score\n",
    "from sklearn.metrics import fbeta_score\n",
    "valid1 = model.predict(x_val, batch_size=128)\n",
    "print(fbeta_score(y_val, np.array(valid1) > 0.2, beta=2, average='samples'))"
   ]
  },
  {
   "cell_type": "markdown",
   "metadata": {},
   "source": [
    "#### Making predictions on the test images"
   ]
  },
  {
   "cell_type": "code",
   "execution_count": 22,
   "metadata": {
    "execution": {
     "iopub.execute_input": "2023-03-21T10:43:22.196433Z",
     "iopub.status.busy": "2023-03-21T10:43:22.195413Z",
     "iopub.status.idle": "2023-03-21T10:53:13.724019Z",
     "shell.execute_reply": "2023-03-21T10:53:13.722360Z",
     "shell.execute_reply.started": "2023-03-21T10:43:22.196372Z"
    }
   },
   "outputs": [
    {
     "name": "stderr",
     "output_type": "stream",
     "text": [
      "100%|██████████| 40669/40669 [06:44<00:00, 100.56it/s]\n",
      "100%|██████████| 20522/20522 [03:07<00:00, 109.70it/s]\n"
     ]
    }
   ],
   "source": [
    "# load test images\n",
    "test_data = []\n",
    "for image, label in tqdm(test_df[:40669].values, miniters = 1000):\n",
    "  path = test_image_base_path + image + '.jpg'\n",
    "  test_data.append(cv2.resize(cv2.imread(path), (75,75)))\n",
    "for image, label in tqdm(test_df[40669:].values, miniters = 1000):\n",
    "  add_path = additional_test_images + image + '.jpg'\n",
    "  test_data.append(cv2.resize(cv2.imread(add_path), (75,75)))"
   ]
  },
  {
   "cell_type": "code",
   "execution_count": 23,
   "metadata": {
    "execution": {
     "iopub.execute_input": "2023-03-21T10:53:37.736137Z",
     "iopub.status.busy": "2023-03-21T10:53:37.735295Z",
     "iopub.status.idle": "2023-03-21T10:53:55.820513Z",
     "shell.execute_reply": "2023-03-21T10:53:55.818682Z",
     "shell.execute_reply.started": "2023-03-21T10:53:37.736043Z"
    }
   },
   "outputs": [],
   "source": [
    "# change the images to array\n",
    "test_data = np.array(test_data,np.float16)/255.0"
   ]
  },
  {
   "cell_type": "code",
   "execution_count": 24,
   "metadata": {
    "execution": {
     "iopub.execute_input": "2023-03-21T10:53:58.955573Z",
     "iopub.status.busy": "2023-03-21T10:53:58.955114Z",
     "iopub.status.idle": "2023-03-21T10:53:58.965482Z",
     "shell.execute_reply": "2023-03-21T10:53:58.963559Z",
     "shell.execute_reply.started": "2023-03-21T10:53:58.955535Z"
    }
   },
   "outputs": [
    {
     "data": {
      "text/plain": [
       "(61191, 75, 75, 3)"
      ]
     },
     "execution_count": 24,
     "metadata": {},
     "output_type": "execute_result"
    }
   ],
   "source": [
    "# print shape of test data\n",
    "test_data.shape"
   ]
  },
  {
   "cell_type": "code",
   "execution_count": 25,
   "metadata": {
    "execution": {
     "iopub.execute_input": "2023-03-21T10:54:03.134662Z",
     "iopub.status.busy": "2023-03-21T10:54:03.134228Z",
     "iopub.status.idle": "2023-03-21T10:58:53.046012Z",
     "shell.execute_reply": "2023-03-21T10:58:53.043390Z",
     "shell.execute_reply.started": "2023-03-21T10:54:03.134626Z"
    }
   },
   "outputs": [
    {
     "name": "stdout",
     "output_type": "stream",
     "text": [
      "479/479 [==============================] - 281s 586ms/step\n"
     ]
    }
   ],
   "source": [
    "# predict on the test images\n",
    "test_pred = model.predict(test_data, batch_size = 128)"
   ]
  },
  {
   "cell_type": "code",
   "execution_count": 26,
   "metadata": {
    "execution": {
     "iopub.execute_input": "2023-03-21T10:58:59.057803Z",
     "iopub.status.busy": "2023-03-21T10:58:59.057143Z",
     "iopub.status.idle": "2023-03-21T10:58:59.069290Z",
     "shell.execute_reply": "2023-03-21T10:58:59.067893Z",
     "shell.execute_reply.started": "2023-03-21T10:58:59.057724Z"
    }
   },
   "outputs": [
    {
     "data": {
      "text/plain": [
       "61191"
      ]
     },
     "execution_count": 26,
     "metadata": {},
     "output_type": "execute_result"
    }
   ],
   "source": [
    "len(test_pred)"
   ]
  },
  {
   "cell_type": "code",
   "execution_count": 27,
   "metadata": {
    "execution": {
     "iopub.execute_input": "2023-03-21T10:59:02.946993Z",
     "iopub.status.busy": "2023-03-21T10:59:02.945973Z",
     "iopub.status.idle": "2023-03-21T10:59:02.953917Z",
     "shell.execute_reply": "2023-03-21T10:59:02.952784Z",
     "shell.execute_reply.started": "2023-03-21T10:59:02.946913Z"
    }
   },
   "outputs": [],
   "source": [
    "# create a list and store the predictions\n",
    "test_predictions = []\n",
    "test_predictions.append(test_pred)"
   ]
  },
  {
   "cell_type": "code",
   "execution_count": 28,
   "metadata": {
    "execution": {
     "iopub.execute_input": "2023-03-21T10:59:11.543857Z",
     "iopub.status.busy": "2023-03-21T10:59:11.543300Z",
     "iopub.status.idle": "2023-03-21T10:59:11.555550Z",
     "shell.execute_reply": "2023-03-21T10:59:11.554156Z",
     "shell.execute_reply.started": "2023-03-21T10:59:11.543812Z"
    }
   },
   "outputs": [],
   "source": [
    "result = np.array(test_predictions[0])\n",
    "for i in range(1,len(test_predictions)):\n",
    "    result += np.array(test_predictions[i])\n",
    "result = pd.DataFrame(result, columns = label_list)"
   ]
  },
  {
   "cell_type": "code",
   "execution_count": 29,
   "metadata": {
    "execution": {
     "iopub.execute_input": "2023-03-21T11:00:10.749469Z",
     "iopub.status.busy": "2023-03-21T11:00:10.748923Z",
     "iopub.status.idle": "2023-03-21T11:02:11.639159Z",
     "shell.execute_reply": "2023-03-21T11:02:11.637340Z",
     "shell.execute_reply.started": "2023-03-21T11:00:10.749429Z"
    }
   },
   "outputs": [
    {
     "name": "stderr",
     "output_type": "stream",
     "text": [
      "100%|██████████| 61191/61191 [02:00<00:00, 506.24it/s]\n"
     ]
    }
   ],
   "source": [
    "test_preds = []\n",
    "for i in tqdm(range(result.shape[0]), miniters=1000):\n",
    "    x = result.loc[[i]]\n",
    "    x = x.apply(lambda x: x > 0.2, axis=1)\n",
    "    x = x.transpose()\n",
    "    x = x.loc[x[i] == True]\n",
    "    ' '.join(list(x.index))\n",
    "    test_preds.append(' '.join(list(x.index)))"
   ]
  },
  {
   "cell_type": "code",
   "execution_count": 30,
   "metadata": {
    "execution": {
     "iopub.execute_input": "2023-03-21T11:02:17.878928Z",
     "iopub.status.busy": "2023-03-21T11:02:17.878470Z",
     "iopub.status.idle": "2023-03-21T11:02:18.020403Z",
     "shell.execute_reply": "2023-03-21T11:02:18.018803Z",
     "shell.execute_reply.started": "2023-03-21T11:02:17.878891Z"
    }
   },
   "outputs": [],
   "source": [
    "test_df['tags'] = test_preds\n",
    "test_df.to_csv('submission.csv', index=False)"
   ]
  },
  {
   "cell_type": "code",
   "execution_count": 31,
   "metadata": {
    "execution": {
     "iopub.execute_input": "2023-03-21T11:02:26.153344Z",
     "iopub.status.busy": "2023-03-21T11:02:26.152922Z",
     "iopub.status.idle": "2023-03-21T11:02:26.227947Z",
     "shell.execute_reply": "2023-03-21T11:02:26.226321Z",
     "shell.execute_reply.started": "2023-03-21T11:02:26.153309Z"
    }
   },
   "outputs": [
    {
     "data": {
      "text/html": [
       "<div>\n",
       "<style scoped>\n",
       "    .dataframe tbody tr th:only-of-type {\n",
       "        vertical-align: middle;\n",
       "    }\n",
       "\n",
       "    .dataframe tbody tr th {\n",
       "        vertical-align: top;\n",
       "    }\n",
       "\n",
       "    .dataframe thead th {\n",
       "        text-align: right;\n",
       "    }\n",
       "</style>\n",
       "<table border=\"1\" class=\"dataframe\">\n",
       "  <thead>\n",
       "    <tr style=\"text-align: right;\">\n",
       "      <th></th>\n",
       "      <th>image_name</th>\n",
       "      <th>tags</th>\n",
       "    </tr>\n",
       "  </thead>\n",
       "  <tbody>\n",
       "    <tr>\n",
       "      <th>0</th>\n",
       "      <td>test_0</td>\n",
       "      <td>primary clear</td>\n",
       "    </tr>\n",
       "    <tr>\n",
       "      <th>1</th>\n",
       "      <td>test_1</td>\n",
       "      <td>primary clear</td>\n",
       "    </tr>\n",
       "    <tr>\n",
       "      <th>2</th>\n",
       "      <td>test_2</td>\n",
       "      <td>primary water partly_cloudy</td>\n",
       "    </tr>\n",
       "    <tr>\n",
       "      <th>3</th>\n",
       "      <td>test_3</td>\n",
       "      <td>primary clear partly_cloudy</td>\n",
       "    </tr>\n",
       "    <tr>\n",
       "      <th>4</th>\n",
       "      <td>test_4</td>\n",
       "      <td>primary agriculture water partly_cloudy</td>\n",
       "    </tr>\n",
       "  </tbody>\n",
       "</table>\n",
       "</div>"
      ],
      "text/plain": [
       "  image_name                                     tags\n",
       "0     test_0                            primary clear\n",
       "1     test_1                            primary clear\n",
       "2     test_2              primary water partly_cloudy\n",
       "3     test_3              primary clear partly_cloudy\n",
       "4     test_4  primary agriculture water partly_cloudy"
      ]
     },
     "execution_count": 31,
     "metadata": {},
     "output_type": "execute_result"
    }
   ],
   "source": [
    "file = pd.read_csv('/kaggle/working/submission.csv')\n",
    "file.head()"
   ]
  },
  {
   "cell_type": "code",
   "execution_count": 32,
   "metadata": {
    "execution": {
     "iopub.execute_input": "2023-03-21T11:02:30.199067Z",
     "iopub.status.busy": "2023-03-21T11:02:30.198321Z",
     "iopub.status.idle": "2023-03-21T11:02:30.211292Z",
     "shell.execute_reply": "2023-03-21T11:02:30.209830Z",
     "shell.execute_reply.started": "2023-03-21T11:02:30.199003Z"
    }
   },
   "outputs": [
    {
     "data": {
      "text/plain": [
       "(61191, 2)"
      ]
     },
     "execution_count": 32,
     "metadata": {},
     "output_type": "execute_result"
    }
   ],
   "source": [
    "file.shape"
   ]
  }
 ],
 "metadata": {
  "kernelspec": {
   "display_name": "Python 3 (ipykernel)",
   "language": "python",
   "name": "python3"
  },
  "language_info": {
   "codemirror_mode": {
    "name": "ipython",
    "version": 3
   },
   "file_extension": ".py",
   "mimetype": "text/x-python",
   "name": "python",
   "nbconvert_exporter": "python",
   "pygments_lexer": "ipython3",
   "version": "3.9.7"
  }
 },
 "nbformat": 4,
 "nbformat_minor": 4
}
